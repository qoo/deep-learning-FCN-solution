{
 "cells": [
  {
   "cell_type": "code",
   "execution_count": 1,
   "metadata": {
    "collapsed": false
   },
   "outputs": [
    {
     "name": "stdout",
     "output_type": "stream",
     "text": [
      "Submodule 'submodules/TensorVision' (https://github.com/TensorVision/TensorVision) registered for path 'submodules/TensorVision'\n",
      "Submodule 'submodules/tensorflow-fcn' (https://github.com/MarvinTeichmann/tensorflow-fcn.git) registered for path 'submodules/tensorflow-fcn'\n",
      "Cloning into 'submodules/TensorVision'...\n",
      "remote: Counting objects: 661, done.\u001b[K\n",
      "remote: Total 661 (delta 0), reused 0 (delta 0), pack-reused 660\u001b[K\n",
      "Receiving objects: 100% (661/661), 1.18 MiB | 0 bytes/s, done.\n",
      "Resolving deltas: 100% (403/403), done.\n",
      "Checking connectivity... done.\n",
      "Submodule path 'submodules/TensorVision': checked out '0f9a9c1cee19a7bf87f1e699f91df2a9a83c4a8b'\n",
      "Cloning into 'submodules/tensorflow-fcn'...\n",
      "remote: Counting objects: 237, done.\u001b[K\n",
      "remote: Total 237 (delta 0), reused 1 (delta 0), pack-reused 236\u001b[K\n",
      "Receiving objects: 100% (237/237), 287.81 KiB | 0 bytes/s, done.\n",
      "Resolving deltas: 100% (146/146), done.\n",
      "Checking connectivity... done.\n",
      "Submodule path 'submodules/tensorflow-fcn': checked out '86e9c94d2185ce5c9bcb10f8c8cc44dfc2da8164'\n"
     ]
    }
   ],
   "source": [
    "# https://github.com/MarvinTeichmann/KittiSeg\n",
    "!git submodule update --init --recursive"
   ]
  },
  {
   "cell_type": "code",
   "execution_count": null,
   "metadata": {
    "collapsed": true
   },
   "outputs": [],
   "source": []
  },
  {
   "cell_type": "code",
   "execution_count": 2,
   "metadata": {
    "collapsed": false
   },
   "outputs": [
    {
     "name": "stdout",
     "output_type": "stream",
     "text": [
      "2017-08-01 20:57:40,990 INFO Downloading VGG weights.\n",
      "2017-08-01 20:57:40,991 INFO Download URL: ftp://mi.eng.cam.ac.uk/pub/mttt2/models/vgg16.npy\n",
      "2017-08-01 20:57:40,991 INFO Download DIR: DATA\n",
      ">> Downloading vgg16.npy 100.0%\n",
      "2017-08-01 20:58:33,284 ERROR Wrong url.\n",
      "2017-08-01 20:58:33,284 ERROR Please visit: http://www.cvlibs.net/download.php?file=data_object_image_2.zip\n",
      "2017-08-01 20:58:33,284 ERROR and request Kitti Download link.\n",
      "2017-08-01 20:58:33,284 ERROR Rerun scipt using'python download_data.py --kitti_url [url]'\n"
     ]
    }
   ],
   "source": [
    "!python download_data.py --kitti_url http://kitti.is.tue.mpg.de/kitti/data_road.zip"
   ]
  },
  {
   "cell_type": "code",
   "execution_count": 11,
   "metadata": {
    "collapsed": false
   },
   "outputs": [
    {
     "name": "stdout",
     "output_type": "stream",
     "text": [
      "2017-08-01 21:09:29,853 INFO No environment variable 'TV_PLUGIN_DIR' found. Set to '/home/ubuntu/tv-plugins'.\n",
      "2017-08-01 21:09:29,853 INFO No environment variable 'TV_STEP_SHOW' found. Set to '50'.\n",
      "2017-08-01 21:09:29,853 INFO No environment variable 'TV_STEP_EVAL' found. Set to '250'.\n",
      "2017-08-01 21:09:29,853 INFO No environment variable 'TV_STEP_WRITE' found. Set to '1000'.\n",
      "2017-08-01 21:09:29,853 INFO No environment variable 'TV_MAX_KEEP' found. Set to '10'.\n",
      "2017-08-01 21:09:29,854 INFO No environment variable 'TV_STEP_STR' found. Set to 'Step {step}/{total_steps}: loss = {loss_value:.2f}; lr = {lr_value:.2e}; {sec_per_batch:.3f} sec (per Batch); {examples_per_sec:.1f} imgs/sec'.\n",
      "2017-08-01 21:09:29,855 INFO f: <_io.TextIOWrapper name='RUNS/KittiBox_pretrained/model_files/hypes.json' mode='r' encoding='UTF-8'>\n",
      "2017-08-01 21:09:29,855 INFO Hypes loaded successfully.\n",
      "2017-08-01 21:09:29,857 INFO Modules loaded successfully. Starting to build tf graph.\n",
      "npy file loaded\n",
      "Layer name: conv1_1\n",
      "Layer shape: (3, 3, 3, 64)\n",
      "2017-08-01 21:09:30,514 INFO Creating Summary for: conv1_1/filter\n",
      "2017-08-01 21:09:30,532 INFO Creating Summary for: conv1_1/biases\n",
      "Layer name: conv1_2\n",
      "Layer shape: (3, 3, 64, 64)\n",
      "2017-08-01 21:09:30,555 INFO Creating Summary for: conv1_2/filter\n",
      "2017-08-01 21:09:30,573 INFO Creating Summary for: conv1_2/biases\n",
      "Layer name: conv2_1\n",
      "Layer shape: (3, 3, 64, 128)\n",
      "2017-08-01 21:09:30,596 INFO Creating Summary for: conv2_1/filter\n",
      "2017-08-01 21:09:30,614 INFO Creating Summary for: conv2_1/biases\n",
      "Layer name: conv2_2\n",
      "Layer shape: (3, 3, 128, 128)\n",
      "2017-08-01 21:09:30,637 INFO Creating Summary for: conv2_2/filter\n",
      "2017-08-01 21:09:30,654 INFO Creating Summary for: conv2_2/biases\n",
      "Layer name: conv3_1\n",
      "Layer shape: (3, 3, 128, 256)\n",
      "2017-08-01 21:09:30,679 INFO Creating Summary for: conv3_1/filter\n",
      "2017-08-01 21:09:30,697 INFO Creating Summary for: conv3_1/biases\n",
      "Layer name: conv3_2\n",
      "Layer shape: (3, 3, 256, 256)\n",
      "2017-08-01 21:09:30,723 INFO Creating Summary for: conv3_2/filter\n",
      "2017-08-01 21:09:30,741 INFO Creating Summary for: conv3_2/biases\n",
      "Layer name: conv3_3\n",
      "Layer shape: (3, 3, 256, 256)\n",
      "2017-08-01 21:09:30,766 INFO Creating Summary for: conv3_3/filter\n",
      "2017-08-01 21:09:30,783 INFO Creating Summary for: conv3_3/biases\n",
      "Layer name: conv4_1\n",
      "Layer shape: (3, 3, 256, 512)\n",
      "2017-08-01 21:09:30,811 INFO Creating Summary for: conv4_1/filter\n",
      "2017-08-01 21:09:30,829 INFO Creating Summary for: conv4_1/biases\n",
      "Layer name: conv4_2\n",
      "Layer shape: (3, 3, 512, 512)\n",
      "2017-08-01 21:09:30,863 INFO Creating Summary for: conv4_2/filter\n",
      "2017-08-01 21:09:30,881 INFO Creating Summary for: conv4_2/biases\n",
      "Layer name: conv4_3\n",
      "Layer shape: (3, 3, 512, 512)\n",
      "2017-08-01 21:09:30,910 INFO Creating Summary for: conv4_3/filter\n",
      "2017-08-01 21:09:30,927 INFO Creating Summary for: conv4_3/biases\n",
      "Layer name: conv5_1\n",
      "Layer shape: (3, 3, 512, 512)\n",
      "2017-08-01 21:09:30,958 INFO Creating Summary for: conv5_1/filter\n",
      "2017-08-01 21:09:30,976 INFO Creating Summary for: conv5_1/biases\n",
      "Layer name: conv5_2\n",
      "Layer shape: (3, 3, 512, 512)\n",
      "2017-08-01 21:09:31,005 INFO Creating Summary for: conv5_2/filter\n",
      "2017-08-01 21:09:31,023 INFO Creating Summary for: conv5_2/biases\n",
      "Layer name: conv5_3\n",
      "Layer shape: (3, 3, 512, 512)\n",
      "2017-08-01 21:09:31,053 INFO Creating Summary for: conv5_3/filter\n",
      "2017-08-01 21:09:31,070 INFO Creating Summary for: conv5_3/biases\n",
      "Layer name: fc6\n",
      "Layer shape: [7, 7, 512, 4096]\n",
      "2017-08-01 21:09:31,583 INFO Creating Summary for: fc6/weights\n",
      "2017-08-01 21:09:31,601 INFO Creating Summary for: fc6/biases\n",
      "Layer name: fc7\n",
      "Layer shape: [1, 1, 4096, 4096]\n",
      "2017-08-01 21:09:31,706 INFO Creating Summary for: fc7/weights\n",
      "2017-08-01 21:09:31,724 INFO Creating Summary for: fc7/biases\n",
      "2017-08-01 21:09:31,749 INFO Creating Summary for: score_fr/weights\n",
      "2017-08-01 21:09:31,766 INFO Creating Summary for: score_fr/biases\n",
      "2017-08-01 21:09:31,799 INFO Creating Summary for: upscore2/up_filter\n",
      "2017-08-01 21:09:31,824 INFO Creating Summary for: score_pool4/weights\n",
      "2017-08-01 21:09:31,842 INFO Creating Summary for: score_pool4/biases\n",
      "2017-08-01 21:09:31,872 INFO Creating Summary for: upscore4/up_filter\n",
      "2017-08-01 21:09:31,899 INFO Creating Summary for: score_pool3/weights\n",
      "2017-08-01 21:09:31,916 INFO Creating Summary for: score_pool3/biases\n",
      "2017-08-01 21:09:31,947 INFO Creating Summary for: upscore32/up_filter\n",
      "2017-08-01 21:09:32,403 INFO Graph build successfully.\n",
      "2017-08-01 21:09:32.404319: W tensorflow/core/platform/cpu_feature_guard.cc:45] The TensorFlow library wasn't compiled to use SSE4.1 instructions, but these are available on your machine and could speed up CPU computations.\n",
      "2017-08-01 21:09:32.404362: W tensorflow/core/platform/cpu_feature_guard.cc:45] The TensorFlow library wasn't compiled to use SSE4.2 instructions, but these are available on your machine and could speed up CPU computations.\n",
      "2017-08-01 21:09:32.404389: W tensorflow/core/platform/cpu_feature_guard.cc:45] The TensorFlow library wasn't compiled to use AVX instructions, but these are available on your machine and could speed up CPU computations.\n",
      "2017-08-01 21:09:32.404411: W tensorflow/core/platform/cpu_feature_guard.cc:45] The TensorFlow library wasn't compiled to use AVX2 instructions, but these are available on your machine and could speed up CPU computations.\n",
      "2017-08-01 21:09:32.404425: W tensorflow/core/platform/cpu_feature_guard.cc:45] The TensorFlow library wasn't compiled to use FMA instructions, but these are available on your machine and could speed up CPU computations.\n",
      "2017-08-01 21:09:32.590799: I tensorflow/stream_executor/cuda/cuda_gpu_executor.cc:901] successful NUMA node read from SysFS had negative value (-1), but there must be at least one NUMA node, so returning NUMA node zero\n",
      "2017-08-01 21:09:32.591350: I tensorflow/core/common_runtime/gpu/gpu_device.cc:887] Found device 0 with properties: \n",
      "name: Tesla K80\n",
      "major: 3 minor: 7 memoryClockRate (GHz) 0.8235\n",
      "pciBusID 0000:00:1e.0\n",
      "Total memory: 11.17GiB\n",
      "Free memory: 11.11GiB\n",
      "2017-08-01 21:09:32.591403: I tensorflow/core/common_runtime/gpu/gpu_device.cc:908] DMA: 0 \n",
      "2017-08-01 21:09:32.591418: I tensorflow/core/common_runtime/gpu/gpu_device.cc:918] 0:   Y \n",
      "2017-08-01 21:09:32.591438: I tensorflow/core/common_runtime/gpu/gpu_device.cc:977] Creating TensorFlow device (/gpu:0) -> (device: 0, name: Tesla K80, pci bus id: 0000:00:1e.0)\n",
      "2017-08-01 21:09:32,744 INFO /home/mifs/mttt2/local_disk/RUNS/TensorDetect2/paper_bench/tau5_zoom_0_kitti_2016_11_09_05.57/model.ckpt-179999\n",
      "INFO:tensorflow:Restoring parameters from RUNS/KittiBox_pretrained/model.ckpt-179999\n",
      "2017-08-01 21:09:32,745 INFO Restoring parameters from RUNS/KittiBox_pretrained/model.ckpt-179999\n",
      "2017-08-01 21:09:34,871 INFO Weights loaded successfully.\n",
      "2017-08-01 21:09:34,871 INFO Starting inference using data/demo.png as input\n",
      "Traceback (most recent call last):\n",
      "  File \"demo.py\", line 219, in <module>\n",
      "    tf.app.run()\n",
      "  File \"/usr/local/anaconda3/lib/python3.5/site-packages/tensorflow/python/platform/app.py\", line 48, in run\n",
      "    _sys.exit(main(_sys.argv[:1] + flags_passthrough))\n",
      "  File \"demo.py\", line 175, in main\n",
      "    min_conf=0.50, tau=hypes['tau'], color_acc=(0, 255, 0))\n",
      "  File \"incl/utils/train_utils.py\", line 103, in add_rectangles\n",
      "    from utils.stitch_wrapper import stitch_rects\n",
      "ImportError: incl/utils/stitch_wrapper.so: undefined symbol: _Py_ZeroStruct\n"
     ]
    }
   ],
   "source": [
    "!python demo.py --input_image data/demo.png"
   ]
  },
  {
   "cell_type": "code",
   "execution_count": 5,
   "metadata": {
    "collapsed": false
   },
   "outputs": [
    {
     "name": "stdout",
     "output_type": "stream",
     "text": [
      "  % Total    % Received % Xferd  Average Speed   Time    Time     Time  Current\n",
      "                                 Dload  Upload   Total   Spent    Left  Speed\n",
      "100 2627M  100 2627M    0     0  13.0M      0  0:03:21  0:03:21 --:--:-- 17.9M\n"
     ]
    }
   ],
   "source": [
    "! curl -O  ftp://mi.eng.cam.ac.uk/pub/mttt2/models/KittiSeg_pretrained.zip"
   ]
  },
  {
   "cell_type": "code",
   "execution_count": 6,
   "metadata": {
    "collapsed": true
   },
   "outputs": [],
   "source": [
    "\"\"\"maybe_download_and_extract(runs_dir):\"\"\"\n",
    "import zipfile\n",
    "runs_dir = 'RUNS'\n",
    "download_name = 'KittiSeg_pretrained.zip'\n",
    "zipfile.ZipFile(download_name, 'r').extractall(runs_dir)"
   ]
  },
  {
   "cell_type": "code",
   "execution_count": 8,
   "metadata": {
    "collapsed": false
   },
   "outputs": [
    {
     "name": "stdout",
     "output_type": "stream",
     "text": [
      "pip install runcython\n",
      "Collecting runcython\n",
      "  Downloading runcython-0.2.5.tar.gz\n",
      "Requirement already satisfied: Cython>=0.10 in /usr/local/anaconda3/lib/python3.5/site-packages (from runcython)\n",
      "Building wheels for collected packages: runcython\n",
      "  Running setup.py bdist_wheel for runcython ... \u001b[?25l-\b \b\\\b \bdone\n",
      "\u001b[?25h  Stored in directory: /home/ubuntu/.cache/pip/wheels/7b/f0/bc/8c35739a98111f94526058b63e1f7553b240d24a2430f60431\n",
      "Successfully built runcython\n",
      "Installing collected packages: runcython\n",
      "Successfully installed runcython-0.2.5\n",
      "makecython++ stitch_wrapper.pyx \"\" \"stitch_rects.cpp ./hungarian/hungarian.cpp\"\n"
     ]
    }
   ],
   "source": [
    "!cd submodules/utils && make"
   ]
  },
  {
   "cell_type": "code",
   "execution_count": 10,
   "metadata": {
    "collapsed": false
   },
   "outputs": [
    {
     "name": "stdout",
     "output_type": "stream",
     "text": [
      "g++ -O3 -DNDEBUG -o evaluate_object2 evaluate_object.cpp\n",
      "evaluate_object.cpp: In function ‘void saveAndPlotPlots(std::string, std::string, std::string, std::vector<double>*, bool)’:\n",
      "evaluate_object.cpp:625:20: warning: ignoring return value of ‘int system(const char*)’, declared with attribute warn_unused_result [-Wunused-result]\n",
      "     system(command);\n",
      "                    ^\n",
      "evaluate_object.cpp:630:18: warning: ignoring return value of ‘int system(const char*)’, declared with attribute warn_unused_result [-Wunused-result]\n",
      "   system(command);\n",
      "                  ^\n",
      "evaluate_object.cpp:632:18: warning: ignoring return value of ‘int system(const char*)’, declared with attribute warn_unused_result [-Wunused-result]\n",
      "   system(command);\n",
      "                  ^\n",
      "evaluate_object.cpp:634:18: warning: ignoring return value of ‘int system(const char*)’, declared with attribute warn_unused_result [-Wunused-result]\n",
      "   system(command);\n",
      "                  ^\n",
      "evaluate_object.cpp: In function ‘bool eval(std::string, std::string, Mail*)’:\n",
      "evaluate_object.cpp:652:40: warning: ignoring return value of ‘int system(const char*)’, declared with attribute warn_unused_result [-Wunused-result]\n",
      "   system((\"mkdir \" + plot_dir).c_str());\n",
      "                                        ^\n"
     ]
    }
   ],
   "source": [
    "!cd submodules/KittiObjective2/ && make"
   ]
  },
  {
   "cell_type": "code",
   "execution_count": 13,
   "metadata": {
    "collapsed": false
   },
   "outputs": [
    {
     "name": "stdout",
     "output_type": "stream",
     "text": [
      "Requirement already satisfied: matplotlib>=1.5.1 in /usr/local/anaconda3/lib/python3.5/site-packages (from -r requirements.txt (line 1))\r\n",
      "Requirement already satisfied: numpy>=1.11.1 in /usr/local/anaconda3/lib/python3.5/site-packages (from -r requirements.txt (line 2))\r\n",
      "Requirement already satisfied: Pillow>=3.3.0 in /usr/local/anaconda3/lib/python3.5/site-packages (from -r requirements.txt (line 3))\r\n",
      "Requirement already satisfied: scipy>=0.17.1 in /usr/local/anaconda3/lib/python3.5/site-packages (from -r requirements.txt (line 4))\r\n",
      "Requirement already satisfied: runcython in /usr/local/anaconda3/lib/python3.5/site-packages (from -r requirements.txt (line 5))\r\n",
      "Requirement already satisfied: python-dateutil in /usr/local/anaconda3/lib/python3.5/site-packages (from matplotlib>=1.5.1->-r requirements.txt (line 1))\r\n",
      "Requirement already satisfied: pytz in /usr/local/anaconda3/lib/python3.5/site-packages (from matplotlib>=1.5.1->-r requirements.txt (line 1))\r\n",
      "Requirement already satisfied: cycler in /usr/local/anaconda3/lib/python3.5/site-packages (from matplotlib>=1.5.1->-r requirements.txt (line 1))\r\n",
      "Requirement already satisfied: pyparsing!=2.0.4,!=2.1.2,>=1.5.6 in /usr/local/anaconda3/lib/python3.5/site-packages (from matplotlib>=1.5.1->-r requirements.txt (line 1))\r\n",
      "Requirement already satisfied: Cython>=0.10 in /usr/local/anaconda3/lib/python3.5/site-packages (from runcython->-r requirements.txt (line 5))\r\n",
      "Requirement already satisfied: six>=1.5 in /usr/local/anaconda3/lib/python3.5/site-packages (from python-dateutil->matplotlib>=1.5.1->-r requirements.txt (line 1))\r\n"
     ]
    }
   ],
   "source": [
    "! pip install -r requirements.txt"
   ]
  },
  {
   "cell_type": "code",
   "execution_count": null,
   "metadata": {
    "collapsed": true
   },
   "outputs": [],
   "source": []
  }
 ],
 "metadata": {
  "anaconda-cloud": {},
  "kernelspec": {
   "display_name": "Python [default]",
   "language": "python",
   "name": "python3"
  },
  "language_info": {
   "codemirror_mode": {
    "name": "ipython",
    "version": 3
   },
   "file_extension": ".py",
   "mimetype": "text/x-python",
   "name": "python",
   "nbconvert_exporter": "python",
   "pygments_lexer": "ipython3",
   "version": "3.5.2"
  }
 },
 "nbformat": 4,
 "nbformat_minor": 1
}
