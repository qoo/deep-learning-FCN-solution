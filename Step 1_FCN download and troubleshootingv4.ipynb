{
 "cells": [
  {
   "cell_type": "code",
   "execution_count": 1,
   "metadata": {
    "collapsed": false
   },
   "outputs": [
    {
     "name": "stdout",
     "output_type": "stream",
     "text": [
      "  % Total    % Received % Xferd  Average Speed   Time    Time     Time  Current\n",
      "                                 Dload  Upload   Total   Spent    Left  Speed\n",
      "100  485M  100  485M    0     0  68.4M      0  0:00:07  0:00:07 --:--:-- 69.4M\n"
     ]
    }
   ],
   "source": [
    "! curl -O https://repo.continuum.io/archive/Anaconda2-4.4.0-Linux-x86_64.sh"
   ]
  },
  {
   "cell_type": "code",
   "execution_count": 2,
   "metadata": {
    "collapsed": false
   },
   "outputs": [
    {
     "name": "stdout",
     "output_type": "stream",
     "text": [
      "Cloning into 'KittiSeg'...\n",
      "remote: Counting objects: 923, done.\u001b[K\n",
      "remote: Total 923 (delta 0), reused 0 (delta 0), pack-reused 923\u001b[K\n",
      "Receiving objects: 100% (923/923), 11.84 MiB | 0 bytes/s, done.\n",
      "Resolving deltas: 100% (492/492), done.\n",
      "Checking connectivity... done.\n"
     ]
    }
   ],
   "source": [
    "!git clone https://github.com/MarvinTeichmann/KittiSeg.git"
   ]
  },
  {
   "cell_type": "code",
   "execution_count": 2,
   "metadata": {
    "collapsed": false
   },
   "outputs": [
    {
     "name": "stdout",
     "output_type": "stream",
     "text": [
      "  % Total    % Received % Xferd  Average Speed   Time    Time     Time  Current\n",
      "                                 Dload  Upload   Total   Spent    Left  Speed\n",
      "100 80.2M  100 80.2M    0     0  53.6M      0  0:00:01  0:00:01 --:--:-- 54.4M\n"
     ]
    }
   ],
   "source": [
    "\"\"\"now install 1.3.0 by default, we need install 1.1.0 manually\"\"\"\n",
    "! curl -O https://storage.googleapis.com/tensorflow/linux/gpu/tensorflow_gpu-1.1.0-cp27-none-linux_x86_64.whl\n",
    "    \n"
   ]
  },
  {
   "cell_type": "markdown",
   "metadata": {},
   "source": [
    "[install python2 + tensorflow] open terminal \n",
    "curl -O https://repo.continuum.io/archive/Anaconda2-4.4.0-Linux-x86_64.sh\n",
    "bash Anaconda2-4.4.0-Linux-x86_64.sh    \n",
    "~/anaconda2/bin/pip install tensorflow-gpu   \n",
    "\n",
    "! ~/anaconda2/bin/pip install tensorflow_gpu-1.1.0-cp27-none-linux_x86_64.whl\n"
   ]
  },
  {
   "cell_type": "code",
   "execution_count": 3,
   "metadata": {
    "collapsed": false
   },
   "outputs": [
    {
     "name": "stdout",
     "output_type": "stream",
     "text": [
      "Processing ./tensorflow_gpu-1.1.0-cp27-none-linux_x86_64.whl\n",
      "Requirement already satisfied: werkzeug>=0.11.10 in /home/ubuntu/anaconda2/lib/python2.7/site-packages (from tensorflow-gpu==1.1.0)\n",
      "Requirement already satisfied: six>=1.10.0 in /home/ubuntu/anaconda2/lib/python2.7/site-packages (from tensorflow-gpu==1.1.0)\n",
      "Requirement already satisfied: wheel in /home/ubuntu/anaconda2/lib/python2.7/site-packages (from tensorflow-gpu==1.1.0)\n",
      "Requirement already satisfied: numpy>=1.11.0 in /home/ubuntu/anaconda2/lib/python2.7/site-packages (from tensorflow-gpu==1.1.0)\n",
      "Collecting mock>=2.0.0 (from tensorflow-gpu==1.1.0)\n",
      "  Downloading mock-2.0.0-py2.py3-none-any.whl (56kB)\n",
      "\u001b[K    100% |████████████████████████████████| 61kB 5.0MB/s \n",
      "\u001b[?25hCollecting protobuf>=3.2.0 (from tensorflow-gpu==1.1.0)\n",
      "  Downloading protobuf-3.4.0-cp27-cp27mu-manylinux1_x86_64.whl (6.2MB)\n",
      "\u001b[K    100% |████████████████████████████████| 6.2MB 202kB/s \n",
      "\u001b[?25hRequirement already satisfied: funcsigs>=1; python_version < \"3.3\" in /home/ubuntu/anaconda2/lib/python2.7/site-packages (from mock>=2.0.0->tensorflow-gpu==1.1.0)\n",
      "Collecting pbr>=0.11 (from mock>=2.0.0->tensorflow-gpu==1.1.0)\n",
      "  Downloading pbr-3.1.1-py2.py3-none-any.whl (99kB)\n",
      "\u001b[K    100% |████████████████████████████████| 102kB 10.4MB/s \n",
      "\u001b[?25hRequirement already satisfied: setuptools in /home/ubuntu/anaconda2/lib/python2.7/site-packages/setuptools-27.2.0-py2.7.egg (from protobuf>=3.2.0->tensorflow-gpu==1.1.0)\n",
      "Installing collected packages: pbr, mock, protobuf, tensorflow-gpu\n",
      "Successfully installed mock-2.0.0 pbr-3.1.1 protobuf-3.4.0 tensorflow-gpu-1.1.0\n"
     ]
    }
   ],
   "source": [
    "! ~/anaconda2/bin/pip install tensorflow_gpu-1.1.0-cp27-none-linux_x86_64.whl"
   ]
  },
  {
   "cell_type": "code",
   "execution_count": 4,
   "metadata": {
    "collapsed": false
   },
   "outputs": [
    {
     "name": "stdout",
     "output_type": "stream",
     "text": [
      "Collecting commentjson\n",
      "  Downloading commentjson-0.6.tar.gz\n",
      "Building wheels for collected packages: commentjson\n",
      "  Running setup.py bdist_wheel for commentjson ... \u001b[?25l-\b \bdone\n",
      "\u001b[?25h  Stored in directory: /home/ubuntu/.cache/pip/wheels/d4/8e/dc/4a85a7fd1d9c8e161987399ead8a56f95042faba79d1f436c3\n",
      "Successfully built commentjson\n",
      "Installing collected packages: commentjson\n",
      "Successfully installed commentjson-0.6\n"
     ]
    }
   ],
   "source": [
    "!~/anaconda2/bin/pip install commentjson\n"
   ]
  },
  {
   "cell_type": "markdown",
   "metadata": {
    "collapsed": true
   },
   "source": [
    "Use Step2*.ipnb, upload it to kittiseg folder"
   ]
  }
 ],
 "metadata": {
  "anaconda-cloud": {},
  "kernelspec": {
   "display_name": "Python [conda root]",
   "language": "python",
   "name": "conda-root-py"
  },
  "language_info": {
   "codemirror_mode": {
    "name": "ipython",
    "version": 3
   },
   "file_extension": ".py",
   "mimetype": "text/x-python",
   "name": "python",
   "nbconvert_exporter": "python",
   "pygments_lexer": "ipython3",
   "version": "3.5.2"
  }
 },
 "nbformat": 4,
 "nbformat_minor": 1
}
