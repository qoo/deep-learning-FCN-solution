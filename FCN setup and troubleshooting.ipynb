{
 "cells": [
  {
   "cell_type": "code",
   "execution_count": 1,
   "metadata": {
    "collapsed": false
   },
   "outputs": [
    {
     "name": "stdout",
     "output_type": "stream",
     "text": [
      "  % Total    % Received % Xferd  Average Speed   Time    Time     Time  Current\n",
      "                                 Dload  Upload   Total   Spent    Left  Speed\n",
      "100  485M  100  485M    0     0  68.9M      0  0:00:07  0:00:07 --:--:-- 69.4M\n"
     ]
    }
   ],
   "source": [
    "! curl -O https://repo.continuum.io/archive/Anaconda2-4.4.0-Linux-x86_64.sh"
   ]
  },
  {
   "cell_type": "code",
   "execution_count": 2,
   "metadata": {
    "collapsed": false
   },
   "outputs": [
    {
     "name": "stdout",
     "output_type": "stream",
     "text": [
      "\n",
      "Welcome to Anaconda2 4.4.0 (by Continuum Analytics, Inc.)\n",
      "\n",
      "In order to continue the installation process, please review the license\n",
      "agreement.\n",
      "Please, press ENTER to continue\n",
      ">>> ^C\n"
     ]
    }
   ],
   "source": [
    "!bash Anaconda2-4.4.0-Linux-x86_64.sh"
   ]
  },
  {
   "cell_type": "code",
   "execution_count": 8,
   "metadata": {
    "collapsed": false
   },
   "outputs": [
    {
     "name": "stdout",
     "output_type": "stream",
     "text": [
      "data\t\t  hypes\t\t\t   README.md\r\n",
      "DATA\t\t  incl\t\t\t   requirements.txt\r\n",
      "decoder\t\t  incl.zip\t\t   RUNS\r\n",
      "demo.py\t\t  inputs\t\t   step 2 kittibox_run.ipynb\r\n",
      "download_data.py  KittiSeg_pretrained.zip  submodules\r\n",
      "encoder\t\t  LICENSE\t\t   tests\r\n",
      "evals\t\t  licenses\t\t   train.py\r\n",
      "evaluate.py\t  optimizer\r\n"
     ]
    }
   ],
   "source": [
    "! ls KittiBox/"
   ]
  },
  {
   "cell_type": "code",
   "execution_count": 12,
   "metadata": {
    "collapsed": false
   },
   "outputs": [
    {
     "name": "stdout",
     "output_type": "stream",
     "text": [
      "  adding: KittiBox/incl/ (stored 0%)\n",
      "  adding: KittiBox/incl/utils/ (stored 0%)\n",
      "  adding: KittiBox/incl/utils/TENSORBOX_LICENSE.txt (deflated 42%)\n",
      "  adding: KittiBox/incl/utils/data_utils.py (deflated 70%)\n",
      "  adding: KittiBox/incl/utils/hungarian/ (stored 0%)\n",
      "  adding: KittiBox/incl/utils/hungarian/hungarian.cpp (deflated 71%)\n",
      "  adding: KittiBox/incl/utils/hungarian/hungarian.hpp (deflated 62%)\n",
      "  adding: KittiBox/incl/utils/hungarian/hungarian.cc (deflated 73%)\n",
      "  adding: KittiBox/incl/utils/stitch_wrapper.pyx (deflated 70%)\n",
      "  adding: KittiBox/incl/utils/kaffe/ (stored 0%)\n",
      "  adding: KittiBox/incl/utils/kaffe/mynet.py (deflated 79%)\n",
      "  adding: KittiBox/incl/utils/kaffe/__init__.py (stored 0%)\n",
      "  adding: KittiBox/incl/utils/kaffe/network.py (deflated 72%)\n",
      "  adding: KittiBox/incl/utils/Makefile (deflated 52%)\n",
      "  adding: KittiBox/incl/utils/googlenet_load.py (deflated 65%)\n",
      "  adding: KittiBox/incl/utils/train_utils.py (deflated 74%)\n",
      "  adding: KittiBox/incl/utils/stitch_wrapper.py (deflated 9%)\n",
      "  adding: KittiBox/incl/utils/annolist/ (stored 0%)\n",
      "  adding: KittiBox/incl/utils/annolist/ma_utils.py (deflated 30%)\n",
      "  adding: KittiBox/incl/utils/annolist/MatPlotter.py (deflated 78%)\n",
      "  adding: KittiBox/incl/utils/annolist/doRPC.py (deflated 75%)\n",
      "  adding: KittiBox/incl/utils/annolist/__init__.py (stored 0%)\n",
      "  adding: KittiBox/incl/utils/annolist/PalLib.py (deflated 77%)\n",
      "  adding: KittiBox/incl/utils/annolist/__pycache__/ (stored 0%)\n",
      "  adding: KittiBox/incl/utils/annolist/__pycache__/AnnotationLib.cpython-35.pyc (deflated 59%)\n",
      "  adding: KittiBox/incl/utils/annolist/__pycache__/ma_utils.cpython-35.pyc (deflated 23%)\n",
      "  adding: KittiBox/incl/utils/annolist/__pycache__/PalLib.cpython-35.pyc (deflated 49%)\n",
      "  adding: KittiBox/incl/utils/annolist/__pycache__/__init__.cpython-35.pyc (deflated 24%)\n",
      "  adding: KittiBox/incl/utils/annolist/AnnotationLib.py (deflated 82%)\n",
      "  adding: KittiBox/incl/utils/annolist/AnnoList_pb2.py (deflated 88%)\n",
      "  adding: KittiBox/incl/utils/annolist/LICENSE_FOR_THIS_FOLDER (deflated 11%)\n",
      "  adding: KittiBox/incl/utils/annolist/plotSimple.py (deflated 68%)\n",
      "  adding: KittiBox/incl/utils/__init__.py (stored 0%)\n",
      "  adding: KittiBox/incl/utils/stitch_rects.hpp (deflated 69%)\n",
      "  adding: KittiBox/incl/utils/__pycache__/ (stored 0%)\n",
      "  adding: KittiBox/incl/utils/__pycache__/stitch_wrapper.cpython-35.pyc (deflated 20%)\n",
      "  adding: KittiBox/incl/utils/__pycache__/data_utils.cpython-35.pyc (deflated 50%)\n",
      "  adding: KittiBox/incl/utils/__pycache__/train_utils.cpython-35.pyc (deflated 56%)\n",
      "  adding: KittiBox/incl/utils/__pycache__/rect.cpython-35.pyc (deflated 57%)\n",
      "  adding: KittiBox/incl/utils/__pycache__/__init__.cpython-35.pyc (deflated 26%)\n",
      "  adding: KittiBox/incl/utils/stitch_wrapper.so (deflated 62%)\n",
      "  adding: KittiBox/incl/utils/rect.py (deflated 71%)\n",
      "  adding: KittiBox/incl/utils/stitch_rects.cpp (deflated 73%)\n",
      "  adding: KittiBox/incl/tensorflow_fcn/ (stored 0%)\n",
      "  adding: KittiBox/incl/tensorflow_fcn/requirements.txt (deflated 8%)\n",
      "  adding: KittiBox/incl/tensorflow_fcn/utils.py (deflated 35%)\n",
      "  adding: KittiBox/incl/tensorflow_fcn/fcn8_downsampled.png (deflated 1%)\n",
      "  adding: KittiBox/incl/tensorflow_fcn/LICENSE (deflated 41%)\n",
      "  adding: KittiBox/incl/tensorflow_fcn/test_fcn32_vgg.py (deflated 51%)\n",
      "  adding: KittiBox/incl/tensorflow_fcn/fcn8_upsampled.png (deflated 1%)\n",
      "  adding: KittiBox/incl/tensorflow_fcn/test_fcn8_vgg.py (deflated 52%)\n",
      "  adding: KittiBox/incl/tensorflow_fcn/test_fcn16_vgg.py (deflated 52%)\n",
      "  adding: KittiBox/incl/tensorflow_fcn/fcn16_downsampled.png (deflated 1%)\n",
      "  adding: KittiBox/incl/tensorflow_fcn/README.md (deflated 54%)\n",
      "  adding: KittiBox/incl/tensorflow_fcn/__init__.py (stored 0%)\n",
      "  adding: KittiBox/incl/tensorflow_fcn/.gitignore (deflated 40%)\n",
      "  adding: KittiBox/incl/tensorflow_fcn/fcn16_vgg.py (deflated 75%)\n",
      "  adding: KittiBox/incl/tensorflow_fcn/test_data/ (stored 0%)\n",
      "  adding: KittiBox/incl/tensorflow_fcn/test_data/tabby_cat.png (deflated 0%)\n",
      "  adding: KittiBox/incl/tensorflow_fcn/fcn32_upsampled.png (deflated 8%)\n",
      "  adding: KittiBox/incl/tensorflow_fcn/.git (deflated 13%)\n",
      "  adding: KittiBox/incl/tensorflow_fcn/__pycache__/ (stored 0%)\n",
      "  adding: KittiBox/incl/tensorflow_fcn/__pycache__/__init__.cpython-35.pyc (deflated 21%)\n",
      "  adding: KittiBox/incl/tensorflow_fcn/__pycache__/fcn8_vgg.cpython-35.pyc (deflated 55%)\n",
      "  adding: KittiBox/incl/tensorflow_fcn/fcn8_vgg.py (deflated 77%)\n",
      "  adding: KittiBox/incl/tensorflow_fcn/fcn32_downsampled.png (deflated 1%)\n",
      "  adding: KittiBox/incl/tensorflow_fcn/fcn32_vgg.py (deflated 75%)\n",
      "  adding: KittiBox/incl/tensorflow_fcn/fcn16_upsampled.png (deflated 1%)\n",
      "  adding: KittiBox/incl/tensorflow_fcn/loss.py (deflated 59%)\n",
      "  adding: KittiBox/incl/tensorvision/ (stored 0%)\n",
      "  adding: KittiBox/incl/tensorvision/utils.py (deflated 73%)\n",
      "  adding: KittiBox/incl/tensorvision/core.py (deflated 67%)\n",
      "  adding: KittiBox/incl/tensorvision/tests/ (stored 0%)\n",
      "  adding: KittiBox/incl/tensorvision/tests/Crocodylus-johnsoni-3-seg-prob.png (deflated 9%)\n",
      "  adding: KittiBox/incl/tensorvision/tests/Crocodylus-johnsoni-3.jpg (deflated 0%)\n",
      "  adding: KittiBox/incl/tensorvision/tests/test_utils.py (deflated 73%)\n",
      "  adding: KittiBox/incl/tensorvision/tests/Crocodylus-johnsoni-3-mask.png (deflated 37%)\n",
      "  adding: KittiBox/incl/tensorvision/tests/croco-mask.png (deflated 48%)\n",
      "  adding: KittiBox/incl/tensorvision/tests/croco.json (deflated 49%)\n",
      "  adding: KittiBox/incl/tensorvision/tests/croco-overlay-soft.png (deflated 0%)\n",
      "  adding: KittiBox/incl/tensorvision/tests/Crocodylus-johnsoni-3-seg.png (deflated 33%)\n",
      "  adding: KittiBox/incl/tensorvision/tests/croco-overlay.png (deflated 0%)\n",
      "  adding: KittiBox/incl/tensorvision/tests/test_analyze.py (deflated 75%)\n",
      "  adding: KittiBox/incl/tensorvision/__init__.py (deflated 9%)\n",
      "  adding: KittiBox/incl/tensorvision/analyze.py (deflated 73%)\n",
      "  adding: KittiBox/incl/tensorvision/train.py (deflated 75%)\n",
      "  adding: KittiBox/incl/tensorvision/__pycache__/ (stored 0%)\n",
      "  adding: KittiBox/incl/tensorvision/__pycache__/core.cpython-35.pyc (deflated 50%)\n",
      "  adding: KittiBox/incl/tensorvision/__pycache__/utils.cpython-35.pyc (deflated 58%)\n",
      "  adding: KittiBox/incl/tensorvision/__pycache__/__init__.cpython-35.pyc (deflated 15%)\n",
      "  adding: KittiBox/incl/tensorvision/continue.py (deflated 62%)\n",
      "  adding: KittiBox/incl/tensorvision/eval.py (deflated 62%)\n"
     ]
    }
   ],
   "source": [
    "! zip -r KittiBox/incl.zip KittiBox/incl"
   ]
  },
  {
   "cell_type": "code",
   "execution_count": 13,
   "metadata": {
    "collapsed": true
   },
   "outputs": [],
   "source": [
    "! rm -r KittiBox/incl"
   ]
  },
  {
   "cell_type": "code",
   "execution_count": 14,
   "metadata": {
    "collapsed": false
   },
   "outputs": [
    {
     "name": "stdout",
     "output_type": "stream",
     "text": [
      "data\t\t  hypes\t\t\t   requirements.txt\r\n",
      "DATA\t\t  incl.zip\t\t   RUNS\r\n",
      "decoder\t\t  inputs\t\t   step 2 kittibox_run.ipynb\r\n",
      "demo.py\t\t  KittiSeg_pretrained.zip  submodules\r\n",
      "download_data.py  LICENSE\t\t   tests\r\n",
      "encoder\t\t  licenses\t\t   train.py\r\n",
      "evals\t\t  optimizer\r\n",
      "evaluate.py\t  README.md\r\n"
     ]
    }
   ],
   "source": [
    "! ls KittiBox"
   ]
  },
  {
   "cell_type": "code",
   "execution_count": null,
   "metadata": {
    "collapsed": true
   },
   "outputs": [],
   "source": []
  }
 ],
 "metadata": {
  "anaconda-cloud": {},
  "kernelspec": {
   "display_name": "Python [default]",
   "language": "python",
   "name": "python3"
  },
  "language_info": {
   "codemirror_mode": {
    "name": "ipython",
    "version": 3
   },
   "file_extension": ".py",
   "mimetype": "text/x-python",
   "name": "python",
   "nbconvert_exporter": "python",
   "pygments_lexer": "ipython3",
   "version": "3.5.2"
  }
 },
 "nbformat": 4,
 "nbformat_minor": 1
}
