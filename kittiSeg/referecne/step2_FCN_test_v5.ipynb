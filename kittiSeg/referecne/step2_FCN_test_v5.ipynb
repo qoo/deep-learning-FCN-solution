{
 "cells": [
  {
   "cell_type": "markdown",
   "metadata": {},
   "source": [
    "If there are errors [sh: 0: getcwd() failed: No such file or directory], kernel -> restart"
   ]
  },
  {
   "cell_type": "code",
   "execution_count": 1,
   "metadata": {
    "collapsed": false
   },
   "outputs": [
    {
     "name": "stdout",
     "output_type": "stream",
     "text": [
      "Submodule 'submodules/TensorVision' (https://github.com/TensorVision/TensorVision.git) registered for path 'submodules/TensorVision'\n",
      "Submodule 'submodules/tensorflow-fcn' (https://github.com/MarvinTeichmann/tensorflow-fcn.git) registered for path 'submodules/tensorflow-fcn'\n",
      "Cloning into 'submodules/TensorVision'...\n",
      "remote: Counting objects: 661, done.\u001b[K\n",
      "remote: Total 661 (delta 0), reused 0 (delta 0), pack-reused 660\u001b[K\n",
      "Receiving objects: 100% (661/661), 1.18 MiB | 0 bytes/s, done.\n",
      "Resolving deltas: 100% (403/403), done.\n",
      "Checking connectivity... done.\n",
      "Submodule path 'submodules/TensorVision': checked out '0f9a9c1cee19a7bf87f1e699f91df2a9a83c4a8b'\n",
      "Cloning into 'submodules/tensorflow-fcn'...\n",
      "remote: Counting objects: 240, done.\u001b[K\n",
      "remote: Total 240 (delta 0), reused 0 (delta 0), pack-reused 240\u001b[K\n",
      "Receiving objects: 100% (240/240), 288.35 KiB | 0 bytes/s, done.\n",
      "Resolving deltas: 100% (148/148), done.\n",
      "Checking connectivity... done.\n",
      "Submodule path 'submodules/tensorflow-fcn': checked out '86e9c94d2185ce5c9bcb10f8c8cc44dfc2da8164'\n"
     ]
    }
   ],
   "source": [
    "# https://github.com/MarvinTeichmann/KittiSeg\n",
    "!git submodule update --init --recursive"
   ]
  },
  {
   "cell_type": "code",
   "execution_count": 2,
   "metadata": {
    "collapsed": false
   },
   "outputs": [
    {
     "name": "stdout",
     "output_type": "stream",
     "text": [
      "  % Total    % Received % Xferd  Average Speed   Time    Time     Time  Current\n",
      "                                 Dload  Upload   Total   Spent    Left  Speed\n",
      "100  449M  100  449M    0     0   9.7M      0  0:00:45  0:00:45 --:--:--  9.9M\n"
     ]
    }
   ],
   "source": [
    "#! curl -O  http://kitti.is.tue.mpg.de/kitti/data_road.zip"
   ]
  },
  {
   "cell_type": "code",
   "execution_count": 2,
   "metadata": {
    "collapsed": false
   },
   "outputs": [
    {
     "name": "stdout",
     "output_type": "stream",
     "text": [
      "2017-08-22 20:52:41,106 INFO Downloading VGG weights.\n",
      "2017-08-22 20:52:41,106 INFO Download URL: ftp://mi.eng.cam.ac.uk/pub/mttt2/models/vgg16.npy\n",
      "2017-08-22 20:52:41,106 INFO Download DIR: DATA\n",
      ">> Downloading vgg16.npy 100.0%\n",
      "2017-08-22 20:53:11,074 INFO Downloading Kitti Road Data.\n",
      "2017-08-22 20:53:11,074 INFO Download URL: http://kitti.is.tue.mpg.de/kitti/data_road.zip\n",
      "2017-08-22 20:53:11,074 INFO Download DIR: DATA\n",
      ">> Downloading data_road.zip 100.0%\n",
      "2017-08-22 20:53:54,261 INFO Extracting kitti_road data.\n",
      "2017-08-22 20:53:57,757 INFO Preparing kitti_road data.\n",
      "2017-08-22 20:53:57,758 INFO All data have been downloaded successful.\n"
     ]
    }
   ],
   "source": [
    "!python download_data.py --kitti_url http://kitti.is.tue.mpg.de/kitti/data_road.zip"
   ]
  },
  {
   "cell_type": "code",
   "execution_count": 1,
   "metadata": {
    "collapsed": false
   },
   "outputs": [
    {
     "name": "stdout",
     "output_type": "stream",
     "text": [
      "2017-08-23 17:39:28,335 INFO No environment variable 'TV_PLUGIN_DIR' found. Set to '/home/ubuntu/tv-plugins'.\n",
      "2017-08-23 17:39:28,335 INFO No environment variable 'TV_STEP_SHOW' found. Set to '50'.\n",
      "2017-08-23 17:39:28,336 INFO No environment variable 'TV_STEP_EVAL' found. Set to '250'.\n",
      "2017-08-23 17:39:28,336 INFO No environment variable 'TV_STEP_WRITE' found. Set to '1000'.\n",
      "2017-08-23 17:39:28,336 INFO No environment variable 'TV_MAX_KEEP' found. Set to '10'.\n",
      "2017-08-23 17:39:28,336 INFO No environment variable 'TV_STEP_STR' found. Set to 'Step {step}/{total_steps}: loss = {loss_value:.2f}; lr = {lr_value:.2e}; {sec_per_batch:.3f} sec (per Batch); {examples_per_sec:.1f} imgs/sec'.\n",
      "2017-08-23 17:39:28,338 INFO f: <_io.TextIOWrapper name='RUNS/KittiSeg_pretrained/model_files/hypes.json' mode='r' encoding='UTF-8'>\n",
      "2017-08-23 17:39:28,338 INFO Hypes loaded successfully.\n",
      "2017-08-23 17:39:28,350 INFO Modules loaded successfully. Starting to build tf graph.\n",
      "npy file loaded\n",
      "Layer name: conv1_1\n",
      "Layer shape: (3, 3, 3, 64)\n",
      "2017-08-23 17:39:28,990 INFO Creating Summary for: conv1_1/filter\n",
      "2017-08-23 17:39:29,008 INFO Creating Summary for: conv1_1/biases\n",
      "Layer name: conv1_2\n",
      "Layer shape: (3, 3, 64, 64)\n",
      "2017-08-23 17:39:29,031 INFO Creating Summary for: conv1_2/filter\n",
      "2017-08-23 17:39:29,048 INFO Creating Summary for: conv1_2/biases\n",
      "Layer name: conv2_1\n",
      "Layer shape: (3, 3, 64, 128)\n",
      "2017-08-23 17:39:29,072 INFO Creating Summary for: conv2_1/filter\n",
      "2017-08-23 17:39:29,090 INFO Creating Summary for: conv2_1/biases\n",
      "Layer name: conv2_2\n",
      "Layer shape: (3, 3, 128, 128)\n",
      "2017-08-23 17:39:29,113 INFO Creating Summary for: conv2_2/filter\n",
      "2017-08-23 17:39:29,130 INFO Creating Summary for: conv2_2/biases\n",
      "Layer name: conv3_1\n",
      "Layer shape: (3, 3, 128, 256)\n",
      "2017-08-23 17:39:29,155 INFO Creating Summary for: conv3_1/filter\n",
      "2017-08-23 17:39:29,172 INFO Creating Summary for: conv3_1/biases\n",
      "Layer name: conv3_2\n",
      "Layer shape: (3, 3, 256, 256)\n",
      "2017-08-23 17:39:29,199 INFO Creating Summary for: conv3_2/filter\n",
      "2017-08-23 17:39:29,216 INFO Creating Summary for: conv3_2/biases\n",
      "Layer name: conv3_3\n",
      "Layer shape: (3, 3, 256, 256)\n",
      "2017-08-23 17:39:29,241 INFO Creating Summary for: conv3_3/filter\n",
      "2017-08-23 17:39:29,259 INFO Creating Summary for: conv3_3/biases\n",
      "Layer name: conv4_1\n",
      "Layer shape: (3, 3, 256, 512)\n",
      "2017-08-23 17:39:29,286 INFO Creating Summary for: conv4_1/filter\n",
      "2017-08-23 17:39:29,304 INFO Creating Summary for: conv4_1/biases\n",
      "Layer name: conv4_2\n",
      "Layer shape: (3, 3, 512, 512)\n",
      "2017-08-23 17:39:29,338 INFO Creating Summary for: conv4_2/filter\n",
      "2017-08-23 17:39:29,356 INFO Creating Summary for: conv4_2/biases\n",
      "Layer name: conv4_3\n",
      "Layer shape: (3, 3, 512, 512)\n",
      "2017-08-23 17:39:29,385 INFO Creating Summary for: conv4_3/filter\n",
      "2017-08-23 17:39:29,403 INFO Creating Summary for: conv4_3/biases\n",
      "Layer name: conv5_1\n",
      "Layer shape: (3, 3, 512, 512)\n",
      "2017-08-23 17:39:29,433 INFO Creating Summary for: conv5_1/filter\n",
      "2017-08-23 17:39:29,450 INFO Creating Summary for: conv5_1/biases\n",
      "Layer name: conv5_2\n",
      "Layer shape: (3, 3, 512, 512)\n",
      "2017-08-23 17:39:29,480 INFO Creating Summary for: conv5_2/filter\n",
      "2017-08-23 17:39:29,498 INFO Creating Summary for: conv5_2/biases\n",
      "Layer name: conv5_3\n",
      "Layer shape: (3, 3, 512, 512)\n",
      "2017-08-23 17:39:29,527 INFO Creating Summary for: conv5_3/filter\n",
      "2017-08-23 17:39:29,545 INFO Creating Summary for: conv5_3/biases\n",
      "Layer name: fc6\n",
      "Layer shape: [7, 7, 512, 4096]\n",
      "2017-08-23 17:39:30,055 INFO Creating Summary for: fc6/weights\n",
      "2017-08-23 17:39:30,073 INFO Creating Summary for: fc6/biases\n",
      "Layer name: fc7\n",
      "Layer shape: [1, 1, 4096, 4096]\n",
      "2017-08-23 17:39:30,177 INFO Creating Summary for: fc7/weights\n",
      "2017-08-23 17:39:30,195 INFO Creating Summary for: fc7/biases\n",
      "2017-08-23 17:39:30,221 INFO Creating Summary for: score_fr/weights\n",
      "2017-08-23 17:39:30,238 INFO Creating Summary for: score_fr/biases\n",
      "2017-08-23 17:39:30,270 INFO Creating Summary for: upscore2/up_filter\n",
      "2017-08-23 17:39:30,296 INFO Creating Summary for: score_pool4/weights\n",
      "2017-08-23 17:39:30,314 INFO Creating Summary for: score_pool4/biases\n",
      "2017-08-23 17:39:30,345 INFO Creating Summary for: upscore4/up_filter\n",
      "2017-08-23 17:39:30,370 INFO Creating Summary for: score_pool3/weights\n",
      "2017-08-23 17:39:30,388 INFO Creating Summary for: score_pool3/biases\n",
      "2017-08-23 17:39:30,419 INFO Creating Summary for: upscore32/up_filter\n",
      "2017-08-23 17:39:30,443 INFO Graph build successfully.\n",
      "2017-08-23 17:39:30.444413: W tensorflow/core/platform/cpu_feature_guard.cc:45] The TensorFlow library wasn't compiled to use SSE4.1 instructions, but these are available on your machine and could speed up CPU computations.\n",
      "2017-08-23 17:39:30.444455: W tensorflow/core/platform/cpu_feature_guard.cc:45] The TensorFlow library wasn't compiled to use SSE4.2 instructions, but these are available on your machine and could speed up CPU computations.\n",
      "2017-08-23 17:39:30.444481: W tensorflow/core/platform/cpu_feature_guard.cc:45] The TensorFlow library wasn't compiled to use AVX instructions, but these are available on your machine and could speed up CPU computations.\n",
      "2017-08-23 17:39:30.444504: W tensorflow/core/platform/cpu_feature_guard.cc:45] The TensorFlow library wasn't compiled to use AVX2 instructions, but these are available on your machine and could speed up CPU computations.\n",
      "2017-08-23 17:39:30.444517: W tensorflow/core/platform/cpu_feature_guard.cc:45] The TensorFlow library wasn't compiled to use FMA instructions, but these are available on your machine and could speed up CPU computations.\n",
      "2017-08-23 17:39:30.575045: I tensorflow/stream_executor/cuda/cuda_gpu_executor.cc:901] successful NUMA node read from SysFS had negative value (-1), but there must be at least one NUMA node, so returning NUMA node zero\n",
      "2017-08-23 17:39:30.575605: I tensorflow/core/common_runtime/gpu/gpu_device.cc:887] Found device 0 with properties: \n",
      "name: Tesla K80\n",
      "major: 3 minor: 7 memoryClockRate (GHz) 0.8235\n",
      "pciBusID 0000:00:1e.0\n",
      "Total memory: 11.17GiB\n",
      "Free memory: 11.11GiB\n",
      "2017-08-23 17:39:30.575672: I tensorflow/core/common_runtime/gpu/gpu_device.cc:908] DMA: 0 \n",
      "2017-08-23 17:39:30.575696: I tensorflow/core/common_runtime/gpu/gpu_device.cc:918] 0:   Y \n",
      "2017-08-23 17:39:30.575719: I tensorflow/core/common_runtime/gpu/gpu_device.cc:977] Creating TensorFlow device (/gpu:0) -> (device: 0, name: Tesla K80, pci bus id: 0000:00:1e.0)\n",
      "2017-08-23 17:39:30,720 INFO /u/marvin/no_backup/RUNS/KittiSeg/loss_bench/xentropy_kitti_fcn_2016_10_15_01.18/model.ckpt-15999\n",
      "INFO:tensorflow:Restoring parameters from RUNS/KittiSeg_pretrained/model.ckpt-15999\n",
      "2017-08-23 17:39:30,720 INFO Restoring parameters from RUNS/KittiSeg_pretrained/model.ckpt-15999\n",
      "2017-08-23 17:39:32,742 INFO Weights loaded successfully.\n",
      "2017-08-23 17:39:32,742 INFO Starting inference using data/demo/demo.png as input\n",
      "2017-08-23 17:39:36,232 INFO \n",
      "2017-08-23 17:39:36,233 INFO Raw output image has been saved to: /mnt/KittiSeg/data/demo/demo_raw.png\n",
      "2017-08-23 17:39:36,233 INFO Red-Blue overlay of confs have been saved to: /mnt/KittiSeg/data/demo/demo_rb.png\n",
      "2017-08-23 17:39:36,233 INFO Green plot of predictions have been saved to: /mnt/KittiSeg/data/demo/demo_green.png\n",
      "2017-08-23 17:39:36,233 INFO \n",
      "2017-08-23 17:39:36,233 WARNING Do NOT use this Code to evaluate multiple images.\n",
      "2017-08-23 17:39:36,233 WARNING Demo.py is **very slow** and designed to be a tutorial to show how the KittiSeg works.\n",
      "2017-08-23 17:39:36,233 WARNING \n",
      "2017-08-23 17:39:36,233 WARNING Please see this comment, if you like to apply demo.py tomultiple images see:\n",
      "2017-08-23 17:39:36,233 WARNING https://github.com/MarvinTeichmann/KittiBox/issues/15#issuecomment-301800058\n"
     ]
    }
   ],
   "source": [
    "!python demo.py --input_image data/demo/demo.png"
   ]
  },
  {
   "cell_type": "code",
   "execution_count": 3,
   "metadata": {
    "collapsed": false
   },
   "outputs": [
    {
     "name": "stdout",
     "output_type": "stream",
     "text": [
      "  % Total    % Received % Xferd  Average Speed   Time    Time     Time  Current\n",
      "                                 Dload  Upload   Total   Spent    Left  Speed\n",
      "100 2627M  100 2627M    0     0  17.5M      0  0:02:29  0:02:29 --:--:-- 18.7M\n"
     ]
    }
   ],
   "source": [
    "! curl -O  ftp://mi.eng.cam.ac.uk/pub/mttt2/models/KittiSeg_pretrained.zip"
   ]
  },
  {
   "cell_type": "code",
   "execution_count": 4,
   "metadata": {
    "collapsed": true
   },
   "outputs": [],
   "source": [
    "\"\"\"unzip pretrained.zip to RUNs/\"\"\"\n",
    "\"\"\"maybe_download_and_extract(runs_dir):\"\"\"\n",
    "import zipfile\n",
    "runs_dir = 'RUNS'\n",
    "download_name = 'KittiSeg_pretrained.zip'\n",
    "zipfile.ZipFile(download_name, 'r').extractall(runs_dir)\n"
   ]
  },
  {
   "cell_type": "code",
   "execution_count": 5,
   "metadata": {
    "collapsed": false
   },
   "outputs": [
    {
     "name": "stdout",
     "output_type": "stream",
     "text": [
      "2017-08-22 21:01:03,675 INFO No environment variable 'TV_PLUGIN_DIR' found. Set to '/home/ubuntu/tv-plugins'.\n",
      "2017-08-22 21:01:03,675 INFO No environment variable 'TV_STEP_SHOW' found. Set to '50'.\n",
      "2017-08-22 21:01:03,675 INFO No environment variable 'TV_STEP_EVAL' found. Set to '250'.\n",
      "2017-08-22 21:01:03,675 INFO No environment variable 'TV_STEP_WRITE' found. Set to '1000'.\n",
      "2017-08-22 21:01:03,675 INFO No environment variable 'TV_MAX_KEEP' found. Set to '10'.\n",
      "2017-08-22 21:01:03,675 INFO No environment variable 'TV_STEP_STR' found. Set to 'Step {step}/{total_steps}: loss = {loss_value:.2f}; lr = {lr_value:.2e}; {sec_per_batch:.3f} sec (per Batch); {examples_per_sec:.1f} imgs/sec'.\n",
      "2017-08-22 21:01:03,677 INFO f: <_io.TextIOWrapper name='RUNS/KittiSeg_pretrained/model_files/hypes.json' mode='r' encoding='UTF-8'>\n",
      "2017-08-22 21:01:03,678 INFO Hypes loaded successfully.\n",
      "2017-08-22 21:01:03,690 INFO Modules loaded successfully. Starting to build tf graph.\n",
      "npy file loaded\n",
      "Layer name: conv1_1\n",
      "Layer shape: (3, 3, 3, 64)\n",
      "2017-08-22 21:01:04,339 INFO Creating Summary for: conv1_1/filter\n",
      "2017-08-22 21:01:04,359 INFO Creating Summary for: conv1_1/biases\n",
      "Layer name: conv1_2\n",
      "Layer shape: (3, 3, 64, 64)\n",
      "2017-08-22 21:01:04,383 INFO Creating Summary for: conv1_2/filter\n",
      "2017-08-22 21:01:04,400 INFO Creating Summary for: conv1_2/biases\n",
      "Layer name: conv2_1\n",
      "Layer shape: (3, 3, 64, 128)\n",
      "2017-08-22 21:01:04,424 INFO Creating Summary for: conv2_1/filter\n",
      "2017-08-22 21:01:04,442 INFO Creating Summary for: conv2_1/biases\n",
      "Layer name: conv2_2\n",
      "Layer shape: (3, 3, 128, 128)\n",
      "2017-08-22 21:01:04,465 INFO Creating Summary for: conv2_2/filter\n",
      "2017-08-22 21:01:04,482 INFO Creating Summary for: conv2_2/biases\n",
      "Layer name: conv3_1\n",
      "Layer shape: (3, 3, 128, 256)\n",
      "2017-08-22 21:01:04,507 INFO Creating Summary for: conv3_1/filter\n",
      "2017-08-22 21:01:04,525 INFO Creating Summary for: conv3_1/biases\n",
      "Layer name: conv3_2\n",
      "Layer shape: (3, 3, 256, 256)\n",
      "2017-08-22 21:01:04,551 INFO Creating Summary for: conv3_2/filter\n",
      "2017-08-22 21:01:04,569 INFO Creating Summary for: conv3_2/biases\n",
      "Layer name: conv3_3\n",
      "Layer shape: (3, 3, 256, 256)\n",
      "2017-08-22 21:01:04,594 INFO Creating Summary for: conv3_3/filter\n",
      "2017-08-22 21:01:04,611 INFO Creating Summary for: conv3_3/biases\n",
      "Layer name: conv4_1\n",
      "Layer shape: (3, 3, 256, 512)\n",
      "2017-08-22 21:01:04,639 INFO Creating Summary for: conv4_1/filter\n",
      "2017-08-22 21:01:04,657 INFO Creating Summary for: conv4_1/biases\n",
      "Layer name: conv4_2\n",
      "Layer shape: (3, 3, 512, 512)\n",
      "2017-08-22 21:01:04,692 INFO Creating Summary for: conv4_2/filter\n",
      "2017-08-22 21:01:04,709 INFO Creating Summary for: conv4_2/biases\n",
      "Layer name: conv4_3\n",
      "Layer shape: (3, 3, 512, 512)\n",
      "2017-08-22 21:01:04,739 INFO Creating Summary for: conv4_3/filter\n",
      "2017-08-22 21:01:04,756 INFO Creating Summary for: conv4_3/biases\n",
      "Layer name: conv5_1\n",
      "Layer shape: (3, 3, 512, 512)\n",
      "2017-08-22 21:01:04,786 INFO Creating Summary for: conv5_1/filter\n",
      "2017-08-22 21:01:04,804 INFO Creating Summary for: conv5_1/biases\n",
      "Layer name: conv5_2\n",
      "Layer shape: (3, 3, 512, 512)\n",
      "2017-08-22 21:01:04,834 INFO Creating Summary for: conv5_2/filter\n",
      "2017-08-22 21:01:04,852 INFO Creating Summary for: conv5_2/biases\n",
      "Layer name: conv5_3\n",
      "Layer shape: (3, 3, 512, 512)\n",
      "2017-08-22 21:01:04,881 INFO Creating Summary for: conv5_3/filter\n",
      "2017-08-22 21:01:04,900 INFO Creating Summary for: conv5_3/biases\n",
      "Layer name: fc6\n",
      "Layer shape: [7, 7, 512, 4096]\n",
      "2017-08-22 21:01:05,411 INFO Creating Summary for: fc6/weights\n",
      "2017-08-22 21:01:05,433 INFO Creating Summary for: fc6/biases\n",
      "Layer name: fc7\n",
      "Layer shape: [1, 1, 4096, 4096]\n",
      "2017-08-22 21:01:05,538 INFO Creating Summary for: fc7/weights\n",
      "2017-08-22 21:01:05,557 INFO Creating Summary for: fc7/biases\n",
      "2017-08-22 21:01:05,582 INFO Creating Summary for: score_fr/weights\n",
      "2017-08-22 21:01:05,600 INFO Creating Summary for: score_fr/biases\n",
      "2017-08-22 21:01:05,632 INFO Creating Summary for: upscore2/up_filter\n",
      "2017-08-22 21:01:05,659 INFO Creating Summary for: score_pool4/weights\n",
      "2017-08-22 21:01:05,676 INFO Creating Summary for: score_pool4/biases\n",
      "2017-08-22 21:01:05,708 INFO Creating Summary for: upscore4/up_filter\n",
      "2017-08-22 21:01:05,733 INFO Creating Summary for: score_pool3/weights\n",
      "2017-08-22 21:01:05,751 INFO Creating Summary for: score_pool3/biases\n",
      "2017-08-22 21:01:05,783 INFO Creating Summary for: upscore32/up_filter\n",
      "2017-08-22 21:01:05,808 INFO Graph build successfully.\n",
      "2017-08-22 21:01:05.808687: W tensorflow/core/platform/cpu_feature_guard.cc:45] The TensorFlow library wasn't compiled to use SSE4.1 instructions, but these are available on your machine and could speed up CPU computations.\n",
      "2017-08-22 21:01:05.808724: W tensorflow/core/platform/cpu_feature_guard.cc:45] The TensorFlow library wasn't compiled to use SSE4.2 instructions, but these are available on your machine and could speed up CPU computations.\n",
      "2017-08-22 21:01:05.808740: W tensorflow/core/platform/cpu_feature_guard.cc:45] The TensorFlow library wasn't compiled to use AVX instructions, but these are available on your machine and could speed up CPU computations.\n",
      "2017-08-22 21:01:05.808752: W tensorflow/core/platform/cpu_feature_guard.cc:45] The TensorFlow library wasn't compiled to use AVX2 instructions, but these are available on your machine and could speed up CPU computations.\n",
      "2017-08-22 21:01:05.808764: W tensorflow/core/platform/cpu_feature_guard.cc:45] The TensorFlow library wasn't compiled to use FMA instructions, but these are available on your machine and could speed up CPU computations.\n",
      "2017-08-22 21:01:05.936806: I tensorflow/stream_executor/cuda/cuda_gpu_executor.cc:901] successful NUMA node read from SysFS had negative value (-1), but there must be at least one NUMA node, so returning NUMA node zero\n",
      "2017-08-22 21:01:05.937320: I tensorflow/core/common_runtime/gpu/gpu_device.cc:887] Found device 0 with properties: \n",
      "name: Tesla K80\n",
      "major: 3 minor: 7 memoryClockRate (GHz) 0.8235\n",
      "pciBusID 0000:00:1e.0\n",
      "Total memory: 11.17GiB\n",
      "Free memory: 11.11GiB\n",
      "2017-08-22 21:01:05.937386: I tensorflow/core/common_runtime/gpu/gpu_device.cc:908] DMA: 0 \n",
      "2017-08-22 21:01:05.937403: I tensorflow/core/common_runtime/gpu/gpu_device.cc:918] 0:   Y \n",
      "2017-08-22 21:01:05.937422: I tensorflow/core/common_runtime/gpu/gpu_device.cc:977] Creating TensorFlow device (/gpu:0) -> (device: 0, name: Tesla K80, pci bus id: 0000:00:1e.0)\n",
      "2017-08-22 21:01:06,086 INFO /u/marvin/no_backup/RUNS/KittiSeg/loss_bench/xentropy_kitti_fcn_2016_10_15_01.18/model.ckpt-15999\n",
      "INFO:tensorflow:Restoring parameters from RUNS/KittiSeg_pretrained/model.ckpt-15999\n",
      "2017-08-22 21:01:06,086 INFO Restoring parameters from RUNS/KittiSeg_pretrained/model.ckpt-15999\n",
      "2017-08-22 21:01:08,129 INFO Weights loaded successfully.\n",
      "2017-08-22 21:01:08,129 INFO Starting inference using data/demo/demo.png as input\n",
      "2017-08-22 21:01:12,344 INFO \n",
      "2017-08-22 21:01:12,344 INFO Raw output image has been saved to: /mnt/KittiSeg/data/demo/demo_raw.png\n",
      "2017-08-22 21:01:12,344 INFO Red-Blue overlay of confs have been saved to: /mnt/KittiSeg/data/demo/demo_rb.png\n",
      "2017-08-22 21:01:12,344 INFO Green plot of predictions have been saved to: /mnt/KittiSeg/data/demo/demo_green.png\n",
      "2017-08-22 21:01:12,344 INFO \n",
      "2017-08-22 21:01:12,344 WARNING Do NOT use this Code to evaluate multiple images.\n",
      "2017-08-22 21:01:12,344 WARNING Demo.py is **very slow** and designed to be a tutorial to show how the KittiSeg works.\n",
      "2017-08-22 21:01:12,345 WARNING \n",
      "2017-08-22 21:01:12,345 WARNING Please see this comment, if you like to apply demo.py tomultiple images see:\n",
      "2017-08-22 21:01:12,345 WARNING https://github.com/MarvinTeichmann/KittiBox/issues/15#issuecomment-301800058\n"
     ]
    }
   ],
   "source": [
    "!python demo.py --input_image data/demo/demo.png"
   ]
  },
  {
   "cell_type": "code",
   "execution_count": 15,
   "metadata": {
    "collapsed": false
   },
   "outputs": [
    {
     "name": "stdout",
     "output_type": "stream",
     "text": [
      "2017-07-31 20:24:28,769 INFO No environment variable 'TV_PLUGIN_DIR' found. Set to '/home/ubuntu/tv-plugins'.\n",
      "2017-07-31 20:24:28,769 INFO No environment variable 'TV_STEP_SHOW' found. Set to '50'.\n",
      "2017-07-31 20:24:28,769 INFO No environment variable 'TV_STEP_EVAL' found. Set to '250'.\n",
      "2017-07-31 20:24:28,769 INFO No environment variable 'TV_STEP_WRITE' found. Set to '1000'.\n",
      "2017-07-31 20:24:28,770 INFO No environment variable 'TV_MAX_KEEP' found. Set to '10'.\n",
      "2017-07-31 20:24:28,770 INFO No environment variable 'TV_STEP_STR' found. Set to 'Step {step}/{total_steps}: loss = {loss_value:.2f}; lr = {lr_value:.2e}; {sec_per_batch:.3f} sec (per Batch); {examples_per_sec:.1f} imgs/sec'.\n",
      "2017-07-31 20:24:28,770 INFO f: <_io.TextIOWrapper name='RUNS/KittiSeg_pretrained/model_files/hypes.json' mode='r' encoding='UTF-8'>\n",
      "2017-07-31 20:24:28,771 INFO Hypes loaded successfully.\n",
      "2017-07-31 20:24:28,773 INFO Modules loaded successfully. Starting to build tf graph.\n",
      "npy file loaded\n",
      "Layer name: conv1_1\n",
      "Layer shape: (3, 3, 3, 64)\n",
      "2017-07-31 20:24:29,429 INFO Creating Summary for: conv1_1/filter\n",
      "2017-07-31 20:24:29,449 INFO Creating Summary for: conv1_1/biases\n",
      "Layer name: conv1_2\n",
      "Layer shape: (3, 3, 64, 64)\n",
      "2017-07-31 20:24:29,473 INFO Creating Summary for: conv1_2/filter\n",
      "2017-07-31 20:24:29,490 INFO Creating Summary for: conv1_2/biases\n",
      "Layer name: conv2_1\n",
      "Layer shape: (3, 3, 64, 128)\n",
      "2017-07-31 20:24:29,514 INFO Creating Summary for: conv2_1/filter\n",
      "2017-07-31 20:24:29,531 INFO Creating Summary for: conv2_1/biases\n",
      "Layer name: conv2_2\n",
      "Layer shape: (3, 3, 128, 128)\n",
      "2017-07-31 20:24:29,553 INFO Creating Summary for: conv2_2/filter\n",
      "2017-07-31 20:24:29,570 INFO Creating Summary for: conv2_2/biases\n",
      "Layer name: conv3_1\n",
      "Layer shape: (3, 3, 128, 256)\n",
      "2017-07-31 20:24:29,594 INFO Creating Summary for: conv3_1/filter\n",
      "2017-07-31 20:24:29,611 INFO Creating Summary for: conv3_1/biases\n",
      "Layer name: conv3_2\n",
      "Layer shape: (3, 3, 256, 256)\n",
      "2017-07-31 20:24:29,637 INFO Creating Summary for: conv3_2/filter\n",
      "2017-07-31 20:24:29,654 INFO Creating Summary for: conv3_2/biases\n",
      "Layer name: conv3_3\n",
      "Layer shape: (3, 3, 256, 256)\n",
      "2017-07-31 20:24:29,678 INFO Creating Summary for: conv3_3/filter\n",
      "2017-07-31 20:24:29,695 INFO Creating Summary for: conv3_3/biases\n",
      "Layer name: conv4_1\n",
      "Layer shape: (3, 3, 256, 512)\n",
      "2017-07-31 20:24:29,722 INFO Creating Summary for: conv4_1/filter\n",
      "2017-07-31 20:24:29,739 INFO Creating Summary for: conv4_1/biases\n",
      "Layer name: conv4_2\n",
      "Layer shape: (3, 3, 512, 512)\n",
      "2017-07-31 20:24:29,773 INFO Creating Summary for: conv4_2/filter\n",
      "2017-07-31 20:24:29,790 INFO Creating Summary for: conv4_2/biases\n",
      "Layer name: conv4_3\n",
      "Layer shape: (3, 3, 512, 512)\n",
      "2017-07-31 20:24:29,819 INFO Creating Summary for: conv4_3/filter\n",
      "2017-07-31 20:24:29,836 INFO Creating Summary for: conv4_3/biases\n",
      "Layer name: conv5_1\n",
      "Layer shape: (3, 3, 512, 512)\n",
      "2017-07-31 20:24:29,866 INFO Creating Summary for: conv5_1/filter\n",
      "2017-07-31 20:24:29,883 INFO Creating Summary for: conv5_1/biases\n",
      "Layer name: conv5_2\n",
      "Layer shape: (3, 3, 512, 512)\n",
      "2017-07-31 20:24:29,913 INFO Creating Summary for: conv5_2/filter\n",
      "2017-07-31 20:24:29,930 INFO Creating Summary for: conv5_2/biases\n",
      "Layer name: conv5_3\n",
      "Layer shape: (3, 3, 512, 512)\n",
      "2017-07-31 20:24:29,959 INFO Creating Summary for: conv5_3/filter\n",
      "2017-07-31 20:24:29,977 INFO Creating Summary for: conv5_3/biases\n",
      "Layer name: fc6\n",
      "Layer shape: [7, 7, 512, 4096]\n",
      "2017-07-31 20:24:30,491 INFO Creating Summary for: fc6/weights\n",
      "2017-07-31 20:24:30,509 INFO Creating Summary for: fc6/biases\n",
      "Layer name: fc7\n",
      "Layer shape: [1, 1, 4096, 4096]\n",
      "2017-07-31 20:24:30,618 INFO Creating Summary for: fc7/weights\n",
      "2017-07-31 20:24:30,635 INFO Creating Summary for: fc7/biases\n",
      "2017-07-31 20:24:30,660 INFO Creating Summary for: score_fr/weights\n",
      "2017-07-31 20:24:30,677 INFO Creating Summary for: score_fr/biases\n",
      "2017-07-31 20:24:30,708 INFO Creating Summary for: upscore2/up_filter\n",
      "2017-07-31 20:24:30,734 INFO Creating Summary for: score_pool4/weights\n",
      "2017-07-31 20:24:30,751 INFO Creating Summary for: score_pool4/biases\n",
      "2017-07-31 20:24:30,781 INFO Creating Summary for: upscore4/up_filter\n",
      "2017-07-31 20:24:30,806 INFO Creating Summary for: score_pool3/weights\n",
      "2017-07-31 20:24:30,823 INFO Creating Summary for: score_pool3/biases\n",
      "2017-07-31 20:24:30,854 INFO Creating Summary for: upscore32/up_filter\n",
      "2017-07-31 20:24:30,878 INFO Graph build successfully.\n",
      "2017-07-31 20:24:30.879029: W tensorflow/core/platform/cpu_feature_guard.cc:45] The TensorFlow library wasn't compiled to use SSE4.1 instructions, but these are available on your machine and could speed up CPU computations.\n",
      "2017-07-31 20:24:30.879068: W tensorflow/core/platform/cpu_feature_guard.cc:45] The TensorFlow library wasn't compiled to use SSE4.2 instructions, but these are available on your machine and could speed up CPU computations.\n",
      "2017-07-31 20:24:30.879082: W tensorflow/core/platform/cpu_feature_guard.cc:45] The TensorFlow library wasn't compiled to use AVX instructions, but these are available on your machine and could speed up CPU computations.\n",
      "2017-07-31 20:24:30.879094: W tensorflow/core/platform/cpu_feature_guard.cc:45] The TensorFlow library wasn't compiled to use AVX2 instructions, but these are available on your machine and could speed up CPU computations.\n",
      "2017-07-31 20:24:30.879105: W tensorflow/core/platform/cpu_feature_guard.cc:45] The TensorFlow library wasn't compiled to use FMA instructions, but these are available on your machine and could speed up CPU computations.\n",
      "2017-07-31 20:24:31.065798: I tensorflow/stream_executor/cuda/cuda_gpu_executor.cc:901] successful NUMA node read from SysFS had negative value (-1), but there must be at least one NUMA node, so returning NUMA node zero\n",
      "2017-07-31 20:24:31.066347: I tensorflow/core/common_runtime/gpu/gpu_device.cc:887] Found device 0 with properties: \n",
      "name: Tesla K80\n",
      "major: 3 minor: 7 memoryClockRate (GHz) 0.8235\n",
      "pciBusID 0000:00:1e.0\n",
      "Total memory: 11.17GiB\n",
      "Free memory: 11.11GiB\n",
      "2017-07-31 20:24:31.066400: I tensorflow/core/common_runtime/gpu/gpu_device.cc:908] DMA: 0 \n",
      "2017-07-31 20:24:31.066415: I tensorflow/core/common_runtime/gpu/gpu_device.cc:918] 0:   Y \n",
      "2017-07-31 20:24:31.066434: I tensorflow/core/common_runtime/gpu/gpu_device.cc:977] Creating TensorFlow device (/gpu:0) -> (device: 0, name: Tesla K80, pci bus id: 0000:00:1e.0)\n",
      "2017-07-31 20:24:31,208 INFO /u/marvin/no_backup/RUNS/KittiSeg/loss_bench/xentropy_kitti_fcn_2016_10_15_01.18/model.ckpt-15999\n",
      "INFO:tensorflow:Restoring parameters from RUNS/KittiSeg_pretrained/model.ckpt-15999\n",
      "2017-07-31 20:24:31,208 INFO Restoring parameters from RUNS/KittiSeg_pretrained/model.ckpt-15999\n",
      "2017-07-31 20:24:33,275 INFO Weights loaded successfully.\n",
      "2017-07-31 20:24:33,275 INFO Starting inference using data/demo/test2.png as input\n",
      "2017-07-31 20:24:35,138 INFO \n",
      "2017-07-31 20:24:35,138 INFO Raw output image has been saved to: /mnt/KittiSeg/data/demo/test2_raw.png\n",
      "2017-07-31 20:24:35,138 INFO Red-Blue overlay of confs have been saved to: /mnt/KittiSeg/data/demo/test2_rb.png\n",
      "2017-07-31 20:24:35,138 INFO Green plot of predictions have been saved to: /mnt/KittiSeg/data/demo/test2_green.png\n",
      "2017-07-31 20:24:35,138 INFO \n",
      "2017-07-31 20:24:35,138 WARNING Do NOT use this Code to evaluate multiple images.\n",
      "2017-07-31 20:24:35,139 WARNING Demo.py is **very slow** and designed to be a tutorial to show how the KittiSeg works.\n",
      "2017-07-31 20:24:35,139 WARNING \n",
      "2017-07-31 20:24:35,139 WARNING Please see this comment, if you like to apply demo.py tomultiple images see:\n",
      "2017-07-31 20:24:35,139 WARNING https://github.com/MarvinTeichmann/KittiBox/issues/15#issuecomment-301800058\n"
     ]
    }
   ],
   "source": [
    "\"\"\"test google image\"\"\"\n",
    "!python demo.py --input_image data/demo/test2.png"
   ]
  },
  {
   "cell_type": "code",
   "execution_count": 2,
   "metadata": {
    "collapsed": true
   },
   "outputs": [],
   "source": [
    "! mkdir DATA/weights"
   ]
  },
  {
   "cell_type": "code",
   "execution_count": 3,
   "metadata": {
    "collapsed": true
   },
   "outputs": [],
   "source": [
    "! cp DATA/vgg16.npy DATA/weights"
   ]
  },
  {
   "cell_type": "code",
   "execution_count": null,
   "metadata": {
    "collapsed": false
   },
   "outputs": [
    {
     "name": "stdout",
     "output_type": "stream",
     "text": [
      "2017-08-22 21:44:22,778 INFO No environment variable 'TV_PLUGIN_DIR' found. Set to '/home/ubuntu/tv-plugins'.\n",
      "2017-08-22 21:44:22,778 INFO No environment variable 'TV_STEP_SHOW' found. Set to '50'.\n",
      "2017-08-22 21:44:22,778 INFO No environment variable 'TV_STEP_EVAL' found. Set to '250'.\n",
      "2017-08-22 21:44:22,778 INFO No environment variable 'TV_STEP_WRITE' found. Set to '1000'.\n",
      "2017-08-22 21:44:22,778 INFO No environment variable 'TV_MAX_KEEP' found. Set to '10'.\n",
      "2017-08-22 21:44:22,778 INFO No environment variable 'TV_STEP_STR' found. Set to 'Step {step}/{total_steps}: loss = {loss_value:.2f}; lr = {lr_value:.2e}; {sec_per_batch:.3f} sec (per Batch); {examples_per_sec:.1f} imgs/sec'.\n",
      "2017-08-22 21:44:22,780 INFO f: <open file 'hypes/KittiSeg.json', mode 'r' at 0x7f12e4796660>\n",
      "2017-08-22 21:44:22,786 INFO Initialize training folder\n",
      "2017-08-22 21:44:22,787 INFO Start training\n",
      "2017-08-22 21:44:22.797822: W tensorflow/core/platform/cpu_feature_guard.cc:45] The TensorFlow library wasn't compiled to use SSE4.1 instructions, but these are available on your machine and could speed up CPU computations.\n",
      "2017-08-22 21:44:22.797861: W tensorflow/core/platform/cpu_feature_guard.cc:45] The TensorFlow library wasn't compiled to use SSE4.2 instructions, but these are available on your machine and could speed up CPU computations.\n",
      "2017-08-22 21:44:22.797876: W tensorflow/core/platform/cpu_feature_guard.cc:45] The TensorFlow library wasn't compiled to use AVX instructions, but these are available on your machine and could speed up CPU computations.\n",
      "2017-08-22 21:44:22.797888: W tensorflow/core/platform/cpu_feature_guard.cc:45] The TensorFlow library wasn't compiled to use AVX2 instructions, but these are available on your machine and could speed up CPU computations.\n",
      "2017-08-22 21:44:22.797899: W tensorflow/core/platform/cpu_feature_guard.cc:45] The TensorFlow library wasn't compiled to use FMA instructions, but these are available on your machine and could speed up CPU computations.\n",
      "2017-08-22 21:44:22.916001: I tensorflow/stream_executor/cuda/cuda_gpu_executor.cc:901] successful NUMA node read from SysFS had negative value (-1), but there must be at least one NUMA node, so returning NUMA node zero\n",
      "2017-08-22 21:44:22.916526: I tensorflow/core/common_runtime/gpu/gpu_device.cc:887] Found device 0 with properties: \n",
      "name: Tesla K80\n",
      "major: 3 minor: 7 memoryClockRate (GHz) 0.8235\n",
      "pciBusID 0000:00:1e.0\n",
      "Total memory: 11.17GiB\n",
      "Free memory: 11.11GiB\n",
      "2017-08-22 21:44:22.916580: I tensorflow/core/common_runtime/gpu/gpu_device.cc:908] DMA: 0 \n",
      "2017-08-22 21:44:22.916594: I tensorflow/core/common_runtime/gpu/gpu_device.cc:918] 0:   Y \n",
      "2017-08-22 21:44:22.916613: I tensorflow/core/common_runtime/gpu/gpu_device.cc:977] Creating TensorFlow device (/gpu:0) -> (device: 0, name: Tesla K80, pci bus id: 0000:00:1e.0)\n",
      "npy file loaded\n",
      "Layer name: conv1_1\n",
      "Layer shape: (3, 3, 3, 64)\n",
      "2017-08-22 21:44:23,431 INFO Creating Summary for: conv1_1/filter\n",
      "2017-08-22 21:44:23,450 INFO Creating Summary for: conv1_1/biases\n",
      "Layer name: conv1_2\n",
      "Layer shape: (3, 3, 64, 64)\n",
      "2017-08-22 21:44:23,504 INFO Creating Summary for: conv1_2/filter\n",
      "2017-08-22 21:44:23,521 INFO Creating Summary for: conv1_2/biases\n",
      "Layer name: conv2_1\n",
      "Layer shape: (3, 3, 64, 128)\n",
      "2017-08-22 21:44:23,545 INFO Creating Summary for: conv2_1/filter\n",
      "2017-08-22 21:44:23,562 INFO Creating Summary for: conv2_1/biases\n",
      "Layer name: conv2_2\n",
      "Layer shape: (3, 3, 128, 128)\n",
      "2017-08-22 21:44:23,585 INFO Creating Summary for: conv2_2/filter\n",
      "2017-08-22 21:44:23,607 INFO Creating Summary for: conv2_2/biases\n",
      "Layer name: conv3_1\n",
      "Layer shape: (3, 3, 128, 256)\n",
      "2017-08-22 21:44:23,631 INFO Creating Summary for: conv3_1/filter\n",
      "2017-08-22 21:44:23,648 INFO Creating Summary for: conv3_1/biases\n",
      "Layer name: conv3_2\n",
      "Layer shape: (3, 3, 256, 256)\n",
      "2017-08-22 21:44:23,672 INFO Creating Summary for: conv3_2/filter\n",
      "2017-08-22 21:44:23,689 INFO Creating Summary for: conv3_2/biases\n",
      "Layer name: conv3_3\n",
      "Layer shape: (3, 3, 256, 256)\n",
      "2017-08-22 21:44:23,713 INFO Creating Summary for: conv3_3/filter\n",
      "2017-08-22 21:44:23,731 INFO Creating Summary for: conv3_3/biases\n",
      "Layer name: conv4_1\n",
      "Layer shape: (3, 3, 256, 512)\n",
      "2017-08-22 21:44:23,756 INFO Creating Summary for: conv4_1/filter\n",
      "2017-08-22 21:44:23,773 INFO Creating Summary for: conv4_1/biases\n",
      "Layer name: conv4_2\n",
      "Layer shape: (3, 3, 512, 512)\n",
      "2017-08-22 21:44:23,807 INFO Creating Summary for: conv4_2/filter\n",
      "2017-08-22 21:44:23,825 INFO Creating Summary for: conv4_2/biases\n",
      "Layer name: conv4_3\n",
      "Layer shape: (3, 3, 512, 512)\n",
      "2017-08-22 21:44:23,857 INFO Creating Summary for: conv4_3/filter\n",
      "2017-08-22 21:44:23,875 INFO Creating Summary for: conv4_3/biases\n",
      "Layer name: conv5_1\n",
      "Layer shape: (3, 3, 512, 512)\n",
      "2017-08-22 21:44:23,904 INFO Creating Summary for: conv5_1/filter\n",
      "2017-08-22 21:44:23,921 INFO Creating Summary for: conv5_1/biases\n",
      "Layer name: conv5_2\n",
      "Layer shape: (3, 3, 512, 512)\n",
      "2017-08-22 21:44:23,951 INFO Creating Summary for: conv5_2/filter\n",
      "2017-08-22 21:44:23,968 INFO Creating Summary for: conv5_2/biases\n",
      "Layer name: conv5_3\n",
      "Layer shape: (3, 3, 512, 512)\n",
      "2017-08-22 21:44:23,997 INFO Creating Summary for: conv5_3/filter\n",
      "2017-08-22 21:44:24,015 INFO Creating Summary for: conv5_3/biases\n",
      "Layer name: fc6\n",
      "Layer shape: [7, 7, 512, 4096]\n",
      "2017-08-22 21:44:24,522 INFO Creating Summary for: fc6/weights\n",
      "2017-08-22 21:44:24,540 INFO Creating Summary for: fc6/biases\n",
      "Layer name: fc7\n",
      "Layer shape: [1, 1, 4096, 4096]\n",
      "2017-08-22 21:44:24,649 INFO Creating Summary for: fc7/weights\n",
      "2017-08-22 21:44:24,667 INFO Creating Summary for: fc7/biases\n",
      "2017-08-22 21:44:24,698 INFO Creating Summary for: score_fr/weights\n",
      "2017-08-22 21:44:24,716 INFO Creating Summary for: score_fr/biases\n",
      "2017-08-22 21:44:24,747 INFO Creating Summary for: upscore2/up_filter\n",
      "2017-08-22 21:44:24,773 INFO Creating Summary for: score_pool4/weights\n",
      "2017-08-22 21:44:24,790 INFO Creating Summary for: score_pool4/biases\n",
      "2017-08-22 21:44:24,821 INFO Creating Summary for: upscore4/up_filter\n",
      "2017-08-22 21:44:24,846 INFO Creating Summary for: score_pool3/weights\n",
      "2017-08-22 21:44:24,863 INFO Creating Summary for: score_pool3/biases\n",
      "2017-08-22 21:44:24,894 INFO Creating Summary for: upscore32/up_filter\n"
     ]
    }
   ],
   "source": [
    "!~/anaconda2/bin/python  train.py --hypes hypes/KittiSeg.json"
   ]
  },
  {
   "cell_type": "code",
   "execution_count": 6,
   "metadata": {
    "collapsed": false
   },
   "outputs": [
    {
     "name": "stdout",
     "output_type": "stream",
     "text": [
      "1.1.0\n"
     ]
    }
   ],
   "source": [
    "import tensorflow as tf\n",
    "print(tf.__version__)"
   ]
  },
  {
   "cell_type": "code",
   "execution_count": 2,
   "metadata": {
    "collapsed": false
   },
   "outputs": [
    {
     "name": "stdout",
     "output_type": "stream",
     "text": [
      "/bin/sh: 1: /home/ubuntu/anaconda2/bin/python: not found\r\n"
     ]
    }
   ],
   "source": [
    "!~/anaconda2/bin/python  train.py --hypes hypes/KittiSeg.json"
   ]
  },
  {
   "cell_type": "code",
   "execution_count": 16,
   "metadata": {
    "collapsed": false
   },
   "outputs": [
    {
     "name": "stdout",
     "output_type": "stream",
     "text": [
      "2017-08-24 21:21:08,178 INFO No environment variable 'TV_PLUGIN_DIR' found. Set to '/home/ubuntu/tv-plugins'.\r\n",
      "2017-08-24 21:21:08,178 INFO No environment variable 'TV_STEP_SHOW' found. Set to '50'.\r\n",
      "2017-08-24 21:21:08,178 INFO No environment variable 'TV_STEP_EVAL' found. Set to '250'.\r\n",
      "2017-08-24 21:21:08,178 INFO No environment variable 'TV_STEP_WRITE' found. Set to '1000'.\r\n",
      "2017-08-24 21:21:08,178 INFO No environment variable 'TV_MAX_KEEP' found. Set to '10'.\r\n",
      "2017-08-24 21:21:08,178 INFO No environment variable 'TV_STEP_STR' found. Set to 'Step {step}/{total_steps}: loss = {loss_value:.2f}; lr = {lr_value:.2e}; {sec_per_batch:.3f} sec (per Batch); {examples_per_sec:.1f} imgs/sec'.\r\n",
      "2017-08-24 21:21:08,179 INFO Using weights found in RUNs/KittiSeg_2017_08_22_21.44\r\n",
      "Traceback (most recent call last):\r\n",
      "  File \"demo.py\", line 227, in <module>\r\n",
      "    tf.app.run()\r\n",
      "  File \"/usr/local/anaconda3/lib/python3.5/site-packages/tensorflow/python/platform/app.py\", line 48, in run\r\n",
      "    _sys.exit(main(_sys.argv[:1] + flags_passthrough))\r\n",
      "  File \"demo.py\", line 131, in main\r\n",
      "    hypes = tv_utils.load_hypes_from_logdir(logdir, base_path='hypes')\r\n",
      "  File \"incl/tensorvision/utils.py\", line 250, in load_hypes_from_logdir\r\n",
      "    with open(hypes_fname, 'r') as f:\r\n",
      "FileNotFoundError: [Errno 2] No such file or directory: 'RUNs/KittiSeg_2017_08_22_21.44/model_files/hypes.json'\r\n"
     ]
    }
   ],
   "source": [
    "!python demo.py --input_image data/demo/demo_copy.png --logdir RUNs/KittiSeg_2017_08_22_21.44 --hypes hypes/KittiSeg.json"
   ]
  },
  {
   "cell_type": "code",
   "execution_count": 6,
   "metadata": {
    "collapsed": false
   },
   "outputs": [
    {
     "data": {
      "text/plain": [
       "environ({'DOMINO_WORKING_DIR': '/mnt', 'PAGER': 'cat', 'SHLVL': '4', 'DOMINO_STARTING_USERNAME': 'cyeh1', 'THEANO_FLAGS': 'blas.ldflags=\"-lblas -lgfortran\"', 'TERM': 'xterm-color', 'DOMINO_USER_ID': '12574', 'DOMINO_PROJECT_OWNER': 'cyeh1', 'DOMINO_API_HOST': 'http://internal-storm-prod-fe-int-elb-1861404424.us-east-1.elb.amazonaws.com:9000', 'JPY_PARENT_PID': '35', 'CUDA_HOME': '/usr/local/cuda-7.5', 'HADOOP_HOME': '/usr/local/hadoop', 'SPARK_HOME': '/opt/spark-1.6.1-bin-hadoop2.6', 'DOMINO_RUN_NUMBER': '29', 'LANG': 'en_US.UTF-8', 'DOMINO_EXECUTOR_HOSTNAME': 'ec2-54-210-123-25.compute-1.amazonaws.com', 'MPLBACKEND': 'module://ipykernel.pylab.backend_inline', 'MAIL': '/var/mail/ubuntu', 'GIT_PAGER': 'cat', 'PYTHONPATH': ':/opt/spark-1.6.1-bin-hadoop2.6/python/:/opt/spark-1.6.1-bin-hadoop2.6/python/lib/py4j-0.9-src.zip', 'CLICOLOR': '1', 'DOMINO_GROUP_ID': '12574', 'HOME': '/home/ubuntu', 'PATH': '/usr/local/anaconda3/bin:/usr/local/cuda-7.5/bin:/usr/local/sbin:/usr/local/bin:/usr/sbin:/usr/bin:/sbin:/bin:/usr/games:/usr/local/games:/opt/spark-1.6.1-bin-hadoop2.6/bin', 'CUDNN_VERSION': '5.1.10', 'DOMINO_PROJECT_NAME': 'CNN', '_': '/usr/local/anaconda3/bin/ipython', 'DOMINO_USER_API_KEY': 'v9qzGGEZyQGRoMMUs66pdXKgCvvkcEQBC5a70JtQdSsC4ssJCJG3YJ26CzJnXat7', 'LOGNAME': 'ubuntu', 'DOMINO_RUN_ID': '599dbd5902142f4eaf3e5e94', 'DOMINO_HARDWARE_TIER_ID': 'p2', 'PWD': '/mnt', 'USER': 'ubuntu', 'PYTHONIOENCODING': 'utf-8', 'LD_LIBRARY_PATH': '/usr/local/cuda-7.5/lib64', 'SHELL': '/bin/bash', 'HOSTNAME': 'domino-run-599dbd5902142f4eaf3e5e94', 'JOBLIB_TEMP_FOLDER': '/tmp'})"
      ]
     },
     "execution_count": 6,
     "metadata": {},
     "output_type": "execute_result"
    }
   ],
   "source": [
    "import os\n",
    "os.environ"
   ]
  },
  {
   "cell_type": "code",
   "execution_count": 9,
   "metadata": {
    "collapsed": false
   },
   "outputs": [],
   "source": [
    "import sys\n",
    "sys.path.insert(1, 'incl')\n"
   ]
  },
  {
   "cell_type": "code",
   "execution_count": 12,
   "metadata": {
    "collapsed": true
   },
   "outputs": [],
   "source": [
    "from seg_utils import seg_utils as seg\n",
    "try:\n",
    "    # Check whether setup was done correctly\n",
    "\n",
    "    import tensorvision.utils as tv_utils\n",
    "    import tensorvision.core as core\n",
    "except ImportError:\n",
    "    # You forgot to initialize submodules\n",
    "    logging.error(\"Could not import the submodules.\")\n",
    "    logging.error(\"Please execute:\"\n",
    "                  \"'git submodule update --init --recursive'\")\n",
    "    exit(1)\n"
   ]
  },
  {
   "cell_type": "code",
   "execution_count": 14,
   "metadata": {
    "collapsed": true
   },
   "outputs": [],
   "source": [
    "import numpy as np\n",
    "import scipy as scp\n",
    "import scipy.misc\n",
    "import tensorflow as tf\n",
    "\n",
    "\n",
    "flags = tf.app.flags\n",
    "FLAGS = flags.FLAGS"
   ]
  },
  {
   "cell_type": "code",
   "execution_count": 15,
   "metadata": {
    "collapsed": false
   },
   "outputs": [],
   "source": [
    "flags.DEFINE_string('logdir', None,\n",
    "                    'Path to logdir.')\n",
    "flags.DEFINE_string('input_image', None,\n",
    "                    'Image to apply KittiSeg.')\n",
    "flags.DEFINE_string('output_image', None,\n",
    "                    'Image to apply KittiSeg.')\n"
   ]
  },
  {
   "cell_type": "code",
   "execution_count": 10,
   "metadata": {
    "collapsed": false
   },
   "outputs": [
    {
     "ename": "KeyError",
     "evalue": "'TV_DIR_RUNS'",
     "output_type": "error",
     "traceback": [
      "\u001b[0;31m---------------------------------------------------------------------------\u001b[0m",
      "\u001b[0;31mKeyError\u001b[0m                                  Traceback (most recent call last)",
      "\u001b[0;32m<ipython-input-10-bb135c6f5bea>\u001b[0m in \u001b[0;36m<module>\u001b[0;34m()\u001b[0m\n\u001b[0;32m----> 1\u001b[0;31m \u001b[0mos\u001b[0m\u001b[0;34m.\u001b[0m\u001b[0menviron\u001b[0m\u001b[0;34m[\u001b[0m\u001b[0;34m'TV_DIR_RUNS'\u001b[0m\u001b[0;34m]\u001b[0m\u001b[0;34m\u001b[0m\u001b[0m\n\u001b[0m",
      "\u001b[0;32m/usr/local/anaconda3/lib/python3.5/os.py\u001b[0m in \u001b[0;36m__getitem__\u001b[0;34m(self, key)\u001b[0m\n\u001b[1;32m    723\u001b[0m         \u001b[0;32mexcept\u001b[0m \u001b[0mKeyError\u001b[0m\u001b[0;34m:\u001b[0m\u001b[0;34m\u001b[0m\u001b[0m\n\u001b[1;32m    724\u001b[0m             \u001b[0;31m# raise KeyError with the original key value\u001b[0m\u001b[0;34m\u001b[0m\u001b[0;34m\u001b[0m\u001b[0m\n\u001b[0;32m--> 725\u001b[0;31m             \u001b[0;32mraise\u001b[0m \u001b[0mKeyError\u001b[0m\u001b[0;34m(\u001b[0m\u001b[0mkey\u001b[0m\u001b[0;34m)\u001b[0m \u001b[0;32mfrom\u001b[0m \u001b[0;32mNone\u001b[0m\u001b[0;34m\u001b[0m\u001b[0m\n\u001b[0m\u001b[1;32m    726\u001b[0m         \u001b[0;32mreturn\u001b[0m \u001b[0mself\u001b[0m\u001b[0;34m.\u001b[0m\u001b[0mdecodevalue\u001b[0m\u001b[0;34m(\u001b[0m\u001b[0mvalue\u001b[0m\u001b[0;34m)\u001b[0m\u001b[0;34m\u001b[0m\u001b[0m\n\u001b[1;32m    727\u001b[0m \u001b[0;34m\u001b[0m\u001b[0m\n",
      "\u001b[0;31mKeyError\u001b[0m: 'TV_DIR_RUNS'"
     ]
    }
   ],
   "source": [
    "os.environ['TV_DIR_RUNS']"
   ]
  },
  {
   "cell_type": "code",
   "execution_count": 19,
   "metadata": {
    "collapsed": false
   },
   "outputs": [
    {
     "name": "stdout",
     "output_type": "stream",
     "text": [
      "2017-08-24 21:23:13,698 INFO No environment variable 'TV_PLUGIN_DIR' found. Set to '/home/ubuntu/tv-plugins'.\n",
      "2017-08-24 21:23:13,698 INFO No environment variable 'TV_STEP_SHOW' found. Set to '50'.\n",
      "2017-08-24 21:23:13,698 INFO No environment variable 'TV_STEP_EVAL' found. Set to '250'.\n",
      "2017-08-24 21:23:13,698 INFO No environment variable 'TV_STEP_WRITE' found. Set to '1000'.\n",
      "2017-08-24 21:23:13,698 INFO No environment variable 'TV_MAX_KEEP' found. Set to '10'.\n",
      "2017-08-24 21:23:13,698 INFO No environment variable 'TV_STEP_STR' found. Set to 'Step {step}/{total_steps}: loss = {loss_value:.2f}; lr = {lr_value:.2e}; {sec_per_batch:.3f} sec (per Batch); {examples_per_sec:.1f} imgs/sec'.\n",
      "2017-08-24 21:23:13,699 INFO f: <_io.TextIOWrapper name='RUNS/KittiSeg_2017_08_22_21.44/model_files/hypes.json' mode='r' encoding='UTF-8'>\n",
      "2017-08-24 21:23:13,699 INFO Hypes loaded successfully.\n",
      "2017-08-24 21:23:13,709 INFO Modules loaded successfully. Starting to build tf graph.\n",
      "npy file loaded\n",
      "Layer name: conv1_1\n",
      "Layer shape: (3, 3, 3, 64)\n",
      "2017-08-24 21:23:14,330 INFO Creating Summary for: conv1_1/filter\n",
      "2017-08-24 21:23:14,347 INFO Creating Summary for: conv1_1/biases\n",
      "Layer name: conv1_2\n",
      "Layer shape: (3, 3, 64, 64)\n",
      "2017-08-24 21:23:14,369 INFO Creating Summary for: conv1_2/filter\n",
      "2017-08-24 21:23:14,387 INFO Creating Summary for: conv1_2/biases\n",
      "Layer name: conv2_1\n",
      "Layer shape: (3, 3, 64, 128)\n",
      "2017-08-24 21:23:14,410 INFO Creating Summary for: conv2_1/filter\n",
      "2017-08-24 21:23:14,426 INFO Creating Summary for: conv2_1/biases\n",
      "Layer name: conv2_2\n",
      "Layer shape: (3, 3, 128, 128)\n",
      "2017-08-24 21:23:14,449 INFO Creating Summary for: conv2_2/filter\n",
      "2017-08-24 21:23:14,466 INFO Creating Summary for: conv2_2/biases\n",
      "Layer name: conv3_1\n",
      "Layer shape: (3, 3, 128, 256)\n",
      "2017-08-24 21:23:14,490 INFO Creating Summary for: conv3_1/filter\n",
      "2017-08-24 21:23:14,507 INFO Creating Summary for: conv3_1/biases\n",
      "Layer name: conv3_2\n",
      "Layer shape: (3, 3, 256, 256)\n",
      "2017-08-24 21:23:14,532 INFO Creating Summary for: conv3_2/filter\n",
      "2017-08-24 21:23:14,549 INFO Creating Summary for: conv3_2/biases\n",
      "Layer name: conv3_3\n",
      "Layer shape: (3, 3, 256, 256)\n",
      "2017-08-24 21:23:14,572 INFO Creating Summary for: conv3_3/filter\n",
      "2017-08-24 21:23:14,589 INFO Creating Summary for: conv3_3/biases\n",
      "Layer name: conv4_1\n",
      "Layer shape: (3, 3, 256, 512)\n",
      "2017-08-24 21:23:14,618 INFO Creating Summary for: conv4_1/filter\n",
      "2017-08-24 21:23:14,634 INFO Creating Summary for: conv4_1/biases\n",
      "Layer name: conv4_2\n",
      "Layer shape: (3, 3, 512, 512)\n",
      "2017-08-24 21:23:14,666 INFO Creating Summary for: conv4_2/filter\n",
      "2017-08-24 21:23:14,683 INFO Creating Summary for: conv4_2/biases\n",
      "Layer name: conv4_3\n",
      "Layer shape: (3, 3, 512, 512)\n",
      "2017-08-24 21:23:14,712 INFO Creating Summary for: conv4_3/filter\n",
      "2017-08-24 21:23:14,729 INFO Creating Summary for: conv4_3/biases\n",
      "Layer name: conv5_1\n",
      "Layer shape: (3, 3, 512, 512)\n",
      "2017-08-24 21:23:14,759 INFO Creating Summary for: conv5_1/filter\n",
      "2017-08-24 21:23:14,776 INFO Creating Summary for: conv5_1/biases\n",
      "Layer name: conv5_2\n",
      "Layer shape: (3, 3, 512, 512)\n",
      "2017-08-24 21:23:14,805 INFO Creating Summary for: conv5_2/filter\n",
      "2017-08-24 21:23:14,822 INFO Creating Summary for: conv5_2/biases\n",
      "Layer name: conv5_3\n",
      "Layer shape: (3, 3, 512, 512)\n",
      "2017-08-24 21:23:14,852 INFO Creating Summary for: conv5_3/filter\n",
      "2017-08-24 21:23:14,869 INFO Creating Summary for: conv5_3/biases\n",
      "Layer name: fc6\n",
      "Layer shape: [7, 7, 512, 4096]\n",
      "2017-08-24 21:23:15,363 INFO Creating Summary for: fc6/weights\n",
      "2017-08-24 21:23:15,381 INFO Creating Summary for: fc6/biases\n",
      "Layer name: fc7\n",
      "Layer shape: [1, 1, 4096, 4096]\n",
      "2017-08-24 21:23:15,482 INFO Creating Summary for: fc7/weights\n",
      "2017-08-24 21:23:15,499 INFO Creating Summary for: fc7/biases\n",
      "2017-08-24 21:23:15,524 INFO Creating Summary for: score_fr/weights\n",
      "2017-08-24 21:23:15,541 INFO Creating Summary for: score_fr/biases\n",
      "2017-08-24 21:23:15,572 INFO Creating Summary for: upscore2/up_filter\n",
      "2017-08-24 21:23:15,597 INFO Creating Summary for: score_pool4/weights\n",
      "2017-08-24 21:23:15,615 INFO Creating Summary for: score_pool4/biases\n",
      "2017-08-24 21:23:15,645 INFO Creating Summary for: upscore4/up_filter\n",
      "2017-08-24 21:23:15,670 INFO Creating Summary for: score_pool3/weights\n",
      "2017-08-24 21:23:15,687 INFO Creating Summary for: score_pool3/biases\n",
      "2017-08-24 21:23:15,718 INFO Creating Summary for: upscore32/up_filter\n",
      "2017-08-24 21:23:15,741 INFO Graph build successfully.\n",
      "2017-08-24 21:23:15.742302: W tensorflow/core/platform/cpu_feature_guard.cc:45] The TensorFlow library wasn't compiled to use SSE4.1 instructions, but these are available on your machine and could speed up CPU computations.\n",
      "2017-08-24 21:23:15.742339: W tensorflow/core/platform/cpu_feature_guard.cc:45] The TensorFlow library wasn't compiled to use SSE4.2 instructions, but these are available on your machine and could speed up CPU computations.\n",
      "2017-08-24 21:23:15.742354: W tensorflow/core/platform/cpu_feature_guard.cc:45] The TensorFlow library wasn't compiled to use AVX instructions, but these are available on your machine and could speed up CPU computations.\n",
      "2017-08-24 21:23:15.742366: W tensorflow/core/platform/cpu_feature_guard.cc:45] The TensorFlow library wasn't compiled to use AVX2 instructions, but these are available on your machine and could speed up CPU computations.\n",
      "2017-08-24 21:23:15.742377: W tensorflow/core/platform/cpu_feature_guard.cc:45] The TensorFlow library wasn't compiled to use FMA instructions, but these are available on your machine and could speed up CPU computations.\n",
      "2017-08-24 21:23:15.860161: I tensorflow/stream_executor/cuda/cuda_gpu_executor.cc:901] successful NUMA node read from SysFS had negative value (-1), but there must be at least one NUMA node, so returning NUMA node zero\n",
      "2017-08-24 21:23:15.860681: I tensorflow/core/common_runtime/gpu/gpu_device.cc:887] Found device 0 with properties: \n",
      "name: Tesla K80\n",
      "major: 3 minor: 7 memoryClockRate (GHz) 0.8235\n",
      "pciBusID 0000:00:1e.0\n",
      "Total memory: 11.17GiB\n",
      "Free memory: 11.11GiB\n",
      "2017-08-24 21:23:15.860734: I tensorflow/core/common_runtime/gpu/gpu_device.cc:908] DMA: 0 \n",
      "2017-08-24 21:23:15.860749: I tensorflow/core/common_runtime/gpu/gpu_device.cc:918] 0:   Y \n",
      "2017-08-24 21:23:15.860768: I tensorflow/core/common_runtime/gpu/gpu_device.cc:977] Creating TensorFlow device (/gpu:0) -> (device: 0, name: Tesla K80, pci bus id: 0000:00:1e.0)\n",
      "2017-08-24 21:23:16,003 INFO /mnt/KittiSeg/hypes/../RUNS/KittiSeg_2017_08_22_21.44/model.ckpt-11999\n",
      "INFO:tensorflow:Restoring parameters from RUNS/KittiSeg_2017_08_22_21.44/model.ckpt-11999\n",
      "2017-08-24 21:23:16,003 INFO Restoring parameters from RUNS/KittiSeg_2017_08_22_21.44/model.ckpt-11999\n",
      "2017-08-24 21:23:17,541 INFO Weights loaded successfully.\n",
      "2017-08-24 21:23:17,542 INFO Starting inference using data/demo/demo_copy.png as input\n",
      "2017-08-24 21:23:20,800 INFO \n",
      "2017-08-24 21:23:20,801 INFO Raw output image has been saved to: /mnt/KittiSeg/data/demo/demo_copy_raw.png\n",
      "2017-08-24 21:23:20,801 INFO Red-Blue overlay of confs have been saved to: /mnt/KittiSeg/data/demo/demo_copy_rb.png\n",
      "2017-08-24 21:23:20,801 INFO Green plot of predictions have been saved to: /mnt/KittiSeg/data/demo/demo_copy_green.png\n",
      "2017-08-24 21:23:20,801 INFO \n",
      "2017-08-24 21:23:20,801 WARNING Do NOT use this Code to evaluate multiple images.\n",
      "2017-08-24 21:23:20,801 WARNING Demo.py is **very slow** and designed to be a tutorial to show how the KittiSeg works.\n",
      "2017-08-24 21:23:20,801 WARNING \n",
      "2017-08-24 21:23:20,801 WARNING Please see this comment, if you like to apply demo.py tomultiple images see:\n",
      "2017-08-24 21:23:20,801 WARNING https://github.com/MarvinTeichmann/KittiBox/issues/15#issuecomment-301800058\n"
     ]
    }
   ],
   "source": [
    "\"\"\"change demo.py as demo-v2.py, change default_run and comment the maybe_download_and_extract\"\"\"\n",
    "!python demo-v2.py --input_image data/demo/demo_copy.png"
   ]
  },
  {
   "cell_type": "code",
   "execution_count": null,
   "metadata": {
    "collapsed": true
   },
   "outputs": [],
   "source": []
  }
 ],
 "metadata": {
  "anaconda-cloud": {},
  "kernelspec": {
   "display_name": "Python [default]",
   "language": "python",
   "name": "python3"
  },
  "language_info": {
   "codemirror_mode": {
    "name": "ipython",
    "version": 3
   },
   "file_extension": ".py",
   "mimetype": "text/x-python",
   "name": "python",
   "nbconvert_exporter": "python",
   "pygments_lexer": "ipython3",
   "version": "3.5.2"
  }
 },
 "nbformat": 4,
 "nbformat_minor": 1
}
