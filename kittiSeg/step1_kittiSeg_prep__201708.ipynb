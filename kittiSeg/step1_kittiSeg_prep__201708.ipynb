{
 "cells": [
  {
   "cell_type": "code",
   "execution_count": 13,
   "metadata": {
    "collapsed": false
   },
   "outputs": [
    {
     "name": "stdout",
     "output_type": "stream",
     "text": [
      "Archive:  incl.zip\n",
      "   creating: incl/data/\n",
      "   creating: incl/DATA/\n",
      "   creating: incl/decoder/\n",
      "  inflating: incl/demo.py            \n",
      "   creating: incl/docu/\n",
      "  inflating: incl/download_data.py   \n",
      "   creating: incl/encoder/\n",
      "   creating: incl/evals/\n",
      "  inflating: incl/evaluate.py        \n",
      "   creating: incl/hypes/\n",
      "   creating: incl/incl/\n",
      "   creating: incl/inputs/\n",
      " extracting: incl/KittiSeg_pretrained.zip  \n",
      "  inflating: incl/LICENSE            \n",
      "   creating: incl/licenses/\n",
      "   creating: incl/optimizer/\n",
      "  inflating: incl/README.md          \n",
      "  inflating: incl/requirements.txt   \n",
      "   creating: incl/RUNS/\n",
      "  inflating: incl/step2_FCN_test_201707.ipynb  \n",
      "   creating: incl/submodules/\n",
      "  inflating: incl/train.py           \n"
     ]
    }
   ],
   "source": [
    "! unzip incl.zip -d incl"
   ]
  },
  {
   "cell_type": "code",
   "execution_count": 6,
   "metadata": {
    "collapsed": false
   },
   "outputs": [
    {
     "name": "stdout",
     "output_type": "stream",
     "text": [
      "  adding: incl/incl/ (stored 0%)\r\n"
     ]
    }
   ],
   "source": [
    "! zip -r incl1.zip incl/incl"
   ]
  },
  {
   "cell_type": "code",
   "execution_count": 14,
   "metadata": {
    "collapsed": true
   },
   "outputs": [],
   "source": [
    "! rm -r incl"
   ]
  },
  {
   "cell_type": "code",
   "execution_count": 15,
   "metadata": {
    "collapsed": false
   },
   "outputs": [],
   "source": [
    "! mkdir incl"
   ]
  },
  {
   "cell_type": "code",
   "execution_count": 11,
   "metadata": {
    "collapsed": false
   },
   "outputs": [
    {
     "name": "stdout",
     "output_type": "stream",
     "text": [
      "Archive:  incl1.zip\r\n",
      "   creating: incl/incl/\r\n"
     ]
    }
   ],
   "source": [
    "! unzip incl1.zip "
   ]
  },
  {
   "cell_type": "code",
   "execution_count": null,
   "metadata": {
    "collapsed": true
   },
   "outputs": [],
   "source": []
  }
 ],
 "metadata": {
  "kernelspec": {
   "display_name": "Python 2",
   "language": "python",
   "name": "python2"
  },
  "language_info": {
   "codemirror_mode": {
    "name": "ipython",
    "version": 2
   },
   "file_extension": ".py",
   "mimetype": "text/x-python",
   "name": "python",
   "nbconvert_exporter": "python",
   "pygments_lexer": "ipython2",
   "version": "2.7.6"
  }
 },
 "nbformat": 4,
 "nbformat_minor": 0
}
