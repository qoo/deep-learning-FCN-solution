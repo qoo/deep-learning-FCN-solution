{
 "cells": [
  {
   "cell_type": "markdown",
   "metadata": {},
   "source": [
    "https://github.com/MarvinTeichmann/KittiSeg\n",
    "Setup\n",
    "\n",
    "Clone this repository: git clone https://github.com/MarvinTeichmann/KittiSeg.git\n",
    "Initialize all submodules: git submodule update --init --recursive\n",
    "[Optional] Download Kitti Road Data:\n",
    "Retrieve kitti data url here: http://www.cvlibs.net/download.php?file=data_road.zip\n",
    "Call python download_data.py --kitti_url URL_YOU_RETRIEVED\n",
    "Running the model using demo.py does not require you to download kitti data (step 3). Step 3 is only required if you want to train your own model using train.py or bench a model agains the official evaluation score evaluate.py. Also note, that I recommend using download_data.py instead of downloading the data yourself. The script will also extract and prepare the data. See Section Manage data storage if you like to control where the data is stored."
   ]
  },
  {
   "cell_type": "code",
   "execution_count": 1,
   "metadata": {
    "collapsed": false
   },
   "outputs": [
    {
     "name": "stdout",
     "output_type": "stream",
     "text": [
      "2017-07-25 20:42:00,040 INFO Downloading VGG weights.\n",
      "2017-07-25 20:42:00,040 INFO Download URL: ftp://mi.eng.cam.ac.uk/pub/mttt2/models/vgg16.npy\n",
      "2017-07-25 20:42:00,040 INFO Download DIR: DATA\n",
      ">> Downloading vgg16.npy 100.0%\n",
      "2017-07-25 20:42:31,839 ERROR Wrong url.\n",
      "2017-07-25 20:42:31,840 ERROR Please visit: http://www.cvlibs.net/download.php?file=data_road.zip\n",
      "2017-07-25 20:42:31,840 ERROR and request Kitti Download link.\n",
      "2017-07-25 20:42:31,840 ERROR Rerun scipt using'python download_data.py' --kitti_url [url]\n"
     ]
    }
   ],
   "source": [
    "!python download_data.py --kitti_url URL_YOU_RETRIEVED"
   ]
  },
  {
   "cell_type": "code",
   "execution_count": 11,
   "metadata": {
    "collapsed": false
   },
   "outputs": [
    {
     "name": "stdout",
     "output_type": "stream",
     "text": [
      "2017-07-25 20:51:46,534 INFO Downloading VGG weights.\n",
      "2017-07-25 20:51:46,534 INFO Download URL: ftp://mi.eng.cam.ac.uk/pub/mttt2/models/vgg16.npy\n",
      "2017-07-25 20:51:46,534 INFO Download DIR: DATA\n",
      ">> Downloading vgg16.npy 100.0%\n",
      "2017-07-25 20:52:44,303 INFO Downloading Kitti Road Data.\n",
      "2017-07-25 20:52:44,303 INFO Download URL: http://kitti.is.tue.mpg.de/kitti/data_road.zip\n",
      "2017-07-25 20:52:44,303 INFO Download DIR: DATA\n",
      ">> Downloading data_road.zip 100.0%\n",
      "2017-07-25 20:53:17,035 INFO Extracting kitti_road data.\n",
      "2017-07-25 20:53:21,193 INFO Preparing kitti_road data.\n",
      "2017-07-25 20:53:21,193 INFO All data have been downloaded successful.\n"
     ]
    }
   ],
   "source": [
    "!python download_data.py --kitti_url http://kitti.is.tue.mpg.de/kitti/data_road.zip"
   ]
  },
  {
   "cell_type": "code",
   "execution_count": null,
   "metadata": {
    "collapsed": true
   },
   "outputs": [],
   "source": []
  }
 ],
 "metadata": {
  "anaconda-cloud": {},
  "kernelspec": {
   "display_name": "Python [default]",
   "language": "python",
   "name": "python3"
  },
  "language_info": {
   "codemirror_mode": {
    "name": "ipython",
    "version": 3
   },
   "file_extension": ".py",
   "mimetype": "text/x-python",
   "name": "python",
   "nbconvert_exporter": "python",
   "pygments_lexer": "ipython3",
   "version": "3.5.2"
  }
 },
 "nbformat": 4,
 "nbformat_minor": 1
}
